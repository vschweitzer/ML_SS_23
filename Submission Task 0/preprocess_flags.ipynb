{
 "cells": [
  {
   "cell_type": "code",
   "execution_count": null,
   "metadata": {},
   "outputs": [],
   "source": [
    "import pandas as pd\n",
    "import seaborn as sns\n",
    "import matplotlib.pyplot as plt\n",
    "import bokeh as bk\n",
    "import os"
   ]
  },
  {
   "cell_type": "code",
   "execution_count": null,
   "metadata": {},
   "outputs": [],
   "source": [
    "# Load dataset\n",
    "\n",
    "flags_dir: str = \"../datasets/flags/\"\n",
    "flags_path: str = os.path.abspath(os.path.join(flags_dir, \"flag.data\"))\n",
    "\n",
    "religions: dict = {0: \"Catholic\", 1: \"Other Christian\", 2: \"Muslim\", 3: \"Buddhist\", 4: \"Hindu\", 5: \"Ethnic\", 6: \"Marxist\", 7: \"Others\"}\n",
    "languages: dict = {1: \"English\", 2: \"Spanish\", 3: \"French\", 4: \"German\", 5: \"Slavic\", 6: \"Other Indo-European\", 7: \"Chinese\", 8: \"Arabic\", 9: \"Japanese/Turkish/Finnish/Magyar\", 10: \"Others\"}\n",
    "\n",
    "columns: list = [\n",
    "    \"name\",\n",
    "    \"landmass\",\n",
    "    \"zone\",\n",
    "    \"area\",\n",
    "    \"population\",\n",
    "    \"language\",\n",
    "    \"religion\",\n",
    "    \"bars\",\n",
    "    \"stripes\",\n",
    "    \"colours\",\n",
    "    \"red\",\n",
    "    \"green\",\n",
    "    \"blue\",\n",
    "    \"gold\",\n",
    "    \"white\",\n",
    "    \"black\",\n",
    "    \"orange\",\n",
    "    \"mainhue\",\n",
    "    \"circles\",\n",
    "    \"crosses\",\n",
    "    \"saltires\",\n",
    "    \"quarters\",\n",
    "    \"sunstars\",\n",
    "    \"crescent\",\n",
    "    \"triangle\",\n",
    "    \"icon\",\n",
    "    \"animate\",\n",
    "    \"text\",\n",
    "    \"topleft\",\n",
    "    \"botright\",\n",
    "]\n",
    "\n",
    "flags_raw_df = pd.read_csv(flags_path, sep=\",\", header=None, names=columns)\n",
    "flags_raw_df"
   ]
  },
  {
   "cell_type": "code",
   "execution_count": null,
   "metadata": {},
   "outputs": [],
   "source": [
    "# Plot features\n",
    "\n",
    "plot_n: int = 20\n",
    "\n",
    "plot_df = flags_raw_df.copy()\n",
    "plot_df.sort_values(\"population\", axis=0, inplace=True, ascending=False)\n",
    "plot_df[\"religion\"] = plot_df[\"religion\"].replace(religions)\n",
    "\n",
    "pop_rel_fig, pop_rel_ax = plt.subplots()\n",
    "\n",
    "sns.barplot(plot_df.head(n=plot_n), y=\"name\", x=\"population\", hue=\"religion\", ax=pop_rel_ax, width=1.0, dodge=False)\n",
    "pop_rel_ax.set_xlabel(\"Population [Millions, rounded]\")\n",
    "pop_rel_ax.set_ylabel(\"Country\")\n",
    "pop_rel_ax.set_title(f\"{plot_n} Most Populous Countries and Their Associated Religion/Ideology\")\n",
    "pop_rel_ax.get_legend().set_title(\"Religion/Ideology\")\n",
    "\n",
    "#religion_fig.show()\n",
    "\n"
   ]
  },
  {
   "cell_type": "code",
   "execution_count": null,
   "metadata": {},
   "outputs": [],
   "source": [
    "\n",
    "col_rel_fig, col_rel_ax = plt.subplots()\n",
    "\n",
    "colors = {\"red\": \"#a00\", \"orange\": \"#f80\", \"white\": \"#aaa\", \"green\": \"#0a0\", \"black\": \"#000\", \"blue\": \"#00a\", \"gold\": \"#ff0\"}\n",
    "res = plot_df[[\"religion\", \"mainhue\"]].groupby([\"religion\", \"mainhue\"]).size()\n",
    "col_rel_df = res.div(res.unstack().sum(axis=1)).unstack(fill_value=0)\n",
    "\n",
    "\n",
    "sns.heatmap(col_rel_df, ax=col_rel_ax, cmap=\"viridis\", linewidths=0.5)\n",
    "col_rel_ax.set_xlabel(\"Main Hue\")\n",
    "col_rel_ax.set_ylabel(\"Religion/Ideology\")\n",
    "col_rel_ax.set_title(\"Fraction of Flags With Each Main Hue by Religion/Ideology\")"
   ]
  },
  {
   "cell_type": "code",
   "execution_count": null,
   "metadata": {},
   "outputs": [],
   "source": [
    "named_df = flags_raw_df\n",
    "named_df[\"language\"].replace(languages, inplace=True)\n",
    "named_df[\"religion\"].replace(religions, inplace=True)"
   ]
  },
  {
   "cell_type": "code",
   "execution_count": null,
   "metadata": {},
   "outputs": [],
   "source": [
    "to_one_hot: list = [\"mainhue\", \"landmass\", \"religion\", \"zone\", \"language\"]\n",
    "one_hot_df = named_df\n",
    "\n",
    "for col in to_one_hot:\n",
    "    one_hot_df = pd.get_dummies(data=one_hot_df, columns=[col], prefix=col)\n"
   ]
  },
  {
   "cell_type": "code",
   "execution_count": null,
   "metadata": {},
   "outputs": [],
   "source": [
    "to_normalize: list = [\"area\", \"population\", \"bars\", \"stripes\", \"colours\", \"circles\", \"crosses\", \"saltires\", \"quarters\", \"sunstars\"]\n",
    "normalized_df = one_hot_df\n",
    "\n",
    "for col in to_normalize:\n",
    "    normalized_df[col] = normalized_df[col].div(normalized_df[col].max())\n",
    "\n",
    "normalized_df"
   ]
  }
 ],
 "metadata": {
  "kernelspec": {
   "display_name": "venv",
   "language": "python",
   "name": "python3"
  },
  "language_info": {
   "codemirror_mode": {
    "name": "ipython",
    "version": 3
   },
   "file_extension": ".py",
   "mimetype": "text/x-python",
   "name": "python",
   "nbconvert_exporter": "python",
   "pygments_lexer": "ipython3",
   "version": "3.11.1"
  },
  "orig_nbformat": 4,
  "vscode": {
   "interpreter": {
    "hash": "b26fe84a2852fd1d26a8c8cb6817bf40b407d1d983919f018e78e7dd176531d2"
   }
  }
 },
 "nbformat": 4,
 "nbformat_minor": 2
}
