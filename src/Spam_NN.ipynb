{
 "cells": [
  {
   "cell_type": "code",
   "execution_count": null,
   "metadata": {},
   "outputs": [],
   "source": [
    "import numpy as np\n",
    "import tensorflow as tf\n",
    "import pandas as pd\n",
    "import pickle\n",
    "\n",
    "from Network import Network\n",
    "from sklearn.metrics import classification_report\n",
    "from sklearn.model_selection import train_test_split\n",
    "from sklearn.preprocessing import StandardScaler\n",
    "from GridSearch import GridSearcher\n",
    "from sklearn.model_selection import GridSearchCV\n",
    "from tensorflow.keras.models import Sequential\n",
    "from tensorflow.keras.layers import Dense, Dropout\n",
    "from tensorflow.keras.wrappers.scikit_learn import KerasClassifier\n",
    "from activation_functions import sigmoid, relu,relu_derivative, sigmoid_derivative, tanh, tanh_derivative\n",
    "from sklearn.neural_network import MLPClassifier"
   ]
  },
  {
   "cell_type": "code",
   "execution_count": null,
   "metadata": {},
   "outputs": [],
   "source": [
    "data=pd.read_csv('spam_final_df.data')\n",
    "data.head()"
   ]
  },
  {
   "cell_type": "code",
   "execution_count": null,
   "metadata": {},
   "outputs": [],
   "source": [
    "X_train, X_test, y_train, y_test = train_test_split(data.iloc[:, :-1], data.iloc[:, -1], test_size=0.2, random_state=26)\n",
    "scaler = StandardScaler()\n",
    "X_train = scaler.fit_transform(X_train)\n",
    "X_test = scaler.transform(X_test)\n",
    "learning_rate=0.1"
   ]
  },
  {
   "cell_type": "code",
   "execution_count": null,
   "metadata": {},
   "outputs": [],
   "source": [
    "# network = Network(learning_rate, epochs=1000, node_counts = [3, 3, 3])"
   ]
  },
  {
   "cell_type": "code",
   "execution_count": null,
   "metadata": {},
   "outputs": [],
   "source": [
    "# params = {\n",
    "#     \"learning_rate\": [0.1, 0.2, 0.5],\n",
    "#     \"epochs\": [10, 100],\n",
    "#     \"node_counts\": [[1], [2], [3], [3, 3], [3, 3, 3]],\n",
    "# }\n",
    "# gs = GridSearcher(network, params, X_train, y_train)\n",
    "# gs_results = gs.search()\n",
    "# gs_results"
   ]
  },
  {
   "cell_type": "code",
   "execution_count": null,
   "metadata": {},
   "outputs": [],
   "source": [
    "network = Network(learning_rate=0.1)"
   ]
  },
  {
   "cell_type": "code",
   "execution_count": null,
   "metadata": {},
   "outputs": [],
   "source": [
    "parameters = {\n",
    "    'learning_rate': [0.1, 0.5],\n",
    "    'epochs': [1000,2000],\n",
    "    'node_counts': [[3,3],[10,10],[100,100],[3,3,3],[10,10,10],[20,20,20]],\n",
    "    'activation_function': [(sigmoid,sigmoid_derivative),(relu,relu_derivative),(tanh,tanh_derivative)],\n",
    "\n",
    "}\n",
    "gs = GridSearcher(network, parameters, X_train, y_train)\n",
    "gs_results = gs.search()\n",
    "gs_results"
   ]
  },
  {
   "cell_type": "code",
   "execution_count": null,
   "metadata": {},
   "outputs": [],
   "source": [
    "self_max = gs_results[\"score_mean\"].idxmax()\n",
    "print(gs_results.loc[self_max][\"params\"])\n",
    "print(gs_results.loc[self_max][\"score_mean\"])"
   ]
  },
  {
   "cell_type": "code",
   "execution_count": null,
   "metadata": {},
   "outputs": [],
   "source": [
    "network.set_params(gs_results.loc[self_max][\"params\"])\n",
    "network.fit(X_train, y_train)\n",
    "test_pred = network.predict(X_test)"
   ]
  },
  {
   "cell_type": "code",
   "execution_count": null,
   "metadata": {},
   "outputs": [],
   "source": [
    "print(classification_report(y_test, test_pred))"
   ]
  },
  {
   "cell_type": "code",
   "execution_count": null,
   "metadata": {},
   "outputs": [],
   "source": [
    "parameters_sk = {\n",
    "    'learning_rate_init': [0.01, 0.1,0.5],\n",
    "    \"learning_rate\": [\"constant\"],\n",
    "    'max_iter': [1000,2000],\n",
    "    'hidden_layer_sizes': [[3,3],[10,10],[100,100],[3,3,3],[10,10,10],[20,20,20]],\n",
    "    'activation': [\"logistic\", \"relu\", \"tanh\"],\n",
    "}"
   ]
  },
  {
   "cell_type": "code",
   "execution_count": null,
   "metadata": {},
   "outputs": [],
   "source": [
    "sk_nn = MLPClassifier()\n",
    "\n",
    "gs_sk = GridSearcher(sk_nn, parameters_sk, X_train, y_train)"
   ]
  },
  {
   "cell_type": "code",
   "execution_count": null,
   "metadata": {},
   "outputs": [],
   "source": [
    "gs_results_sk = gs_sk.search()"
   ]
  },
  {
   "cell_type": "code",
   "execution_count": null,
   "metadata": {},
   "outputs": [],
   "source": [
    "sk_max = gs_results_sk[\"score_mean\"].idxmax()\n",
    "print(gs_results_sk.loc[sk_max][\"params\"])\n",
    "print(gs_results_sk.loc[sk_max][\"score_mean\"])"
   ]
  },
  {
   "cell_type": "code",
   "execution_count": null,
   "metadata": {},
   "outputs": [],
   "source": [
    "sk_nn.set_params(**gs_results_sk.loc[sk_max][\"params\"])\n",
    "sk_nn.fit(X_train, y_train)\n",
    "test_pred_sk = sk_nn.predict(X_test)"
   ]
  },
  {
   "cell_type": "code",
   "execution_count": null,
   "metadata": {},
   "outputs": [],
   "source": [
    "print(classification_report(y_test, test_pred_sk))"
   ]
  }
 ],
 "metadata": {
  "kernelspec": {
   "display_name": "venv",
   "language": "python",
   "name": "python3"
  },
  "language_info": {
   "codemirror_mode": {
    "name": "ipython",
    "version": 3
   },
   "file_extension": ".py",
   "mimetype": "text/x-python",
   "name": "python",
   "nbconvert_exporter": "python",
   "pygments_lexer": "ipython3",
   "version": "3.11.1"
  },
  "orig_nbformat": 4
 },
 "nbformat": 4,
 "nbformat_minor": 2
}
