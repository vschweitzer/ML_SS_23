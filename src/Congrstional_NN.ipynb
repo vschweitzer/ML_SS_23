{
 "cells": [
  {
   "cell_type": "code",
   "execution_count": 21,
   "metadata": {},
   "outputs": [],
   "source": [
    "import numpy as np\n",
    "import pandas as pd\n",
    "import tensorflow as tf\n",
    "from Network import Network\n",
    "from GridSearch import GridSearcher\n",
    "from activation_functions import sigmoid, relu,relu_derivative, sigmoid_derivative, tanh, tanh_derivative\n",
    "from sklearn.metrics import classification_report\n",
    "from sklearn.preprocessing import StandardScaler\n",
    "from sklearn.model_selection import train_test_split\n",
    "from sklearn.model_selection import GridSearchCV\n"
   ]
  },
  {
   "cell_type": "code",
   "execution_count": 22,
   "metadata": {},
   "outputs": [],
   "source": [
    "# Set random seed for reproducibility\n",
    "np.random.seed(42)\n",
    "df_vote = pd.read_csv(\"CongressionalVotingID.shuf.lrn.csv\", index_col=\"ID\")\n",
    "df_vote = df_vote.applymap(lambda x: 1 if x == \"y\" else 0 if x == \"n\" else x)\n",
    "df_vote = df_vote.replace(\"democrat\", 1)\n",
    "df_vote = df_vote.replace(\"republican\", 0)\n",
    "df_vote = df_vote.replace(\"unknown\", 0)"
   ]
  },
  {
   "cell_type": "code",
   "execution_count": 23,
   "metadata": {},
   "outputs": [],
   "source": [
    "x_train, x_test, y_train, y_test = train_test_split(df_vote.iloc[:,1:], df_vote.iloc[:, 0],test_size=0.4, random_state=11)"
   ]
  },
  {
   "cell_type": "code",
   "execution_count": 10,
   "metadata": {},
   "outputs": [],
   "source": [
    "# x_train = np.expand_dims(x_train.to_numpy(), axis=1)\n",
    "# y_train = np.expand_dims(y_train.to_numpy(), axis=1)\n",
    "# x_test = np.expand_dims(x_test.to_numpy(), axis=1)\n",
    "# y_test = np.expand_dims(y_test.to_numpy(), axis=1)"
   ]
  },
  {
   "cell_type": "code",
   "execution_count": 24,
   "metadata": {},
   "outputs": [],
   "source": [
    "scaler = StandardScaler()\n",
    "X_train = scaler.fit_transform(x_train)\n",
    "X_test = scaler.transform(x_test)\n",
    "learning_rate=0.1"
   ]
  },
  {
   "cell_type": "code",
   "execution_count": 25,
   "metadata": {},
   "outputs": [],
   "source": [
    "network = Network(learning_rate, epochs=1000, node_counts = [3, 3, 3],activation_function=(tanh, tanh_derivative))"
   ]
  },
  {
   "cell_type": "code",
   "execution_count": 26,
   "metadata": {},
   "outputs": [
    {
     "data": {
      "text/html": [
       "<div>\n",
       "<style scoped>\n",
       "    .dataframe tbody tr th:only-of-type {\n",
       "        vertical-align: middle;\n",
       "    }\n",
       "\n",
       "    .dataframe tbody tr th {\n",
       "        vertical-align: top;\n",
       "    }\n",
       "\n",
       "    .dataframe thead th {\n",
       "        text-align: right;\n",
       "    }\n",
       "</style>\n",
       "<table border=\"1\" class=\"dataframe\">\n",
       "  <thead>\n",
       "    <tr style=\"text-align: right;\">\n",
       "      <th></th>\n",
       "      <th>learning_rate</th>\n",
       "      <th>epochs</th>\n",
       "      <th>node_counts</th>\n",
       "      <th>activation_function</th>\n",
       "      <th>test_score</th>\n",
       "      <th>fit_time</th>\n",
       "      <th>score_time</th>\n",
       "      <th>score_mean</th>\n",
       "    </tr>\n",
       "  </thead>\n",
       "  <tbody>\n",
       "    <tr>\n",
       "      <th>0</th>\n",
       "      <td>0.1</td>\n",
       "      <td>10</td>\n",
       "      <td>[3]</td>\n",
       "      <td>(&lt;function sigmoid at 0x0000020A6D187BA0&gt;, &lt;fu...</td>\n",
       "      <td>[0.29729729729729726, 0.2777777777777778, 0.21...</td>\n",
       "      <td>[0.3036165237426758, 0.315920352935791, 0.3599...</td>\n",
       "      <td>[0.00400090217590332, 0.007999420166015625, 0....</td>\n",
       "      <td>0.244796</td>\n",
       "    </tr>\n",
       "    <tr>\n",
       "      <th>1</th>\n",
       "      <td>0.1</td>\n",
       "      <td>10</td>\n",
       "      <td>[3, 3]</td>\n",
       "      <td>(&lt;function sigmoid at 0x0000020A6D187BA0&gt;, &lt;fu...</td>\n",
       "      <td>[0.29729729729729726, 0.2777777777777778, 0.21...</td>\n",
       "      <td>[0.48787784576416016, 0.4678800106048584, 0.49...</td>\n",
       "      <td>[0.007998943328857422, 0.008001565933227539, 0...</td>\n",
       "      <td>0.244796</td>\n",
       "    </tr>\n",
       "    <tr>\n",
       "      <th>2</th>\n",
       "      <td>0.1</td>\n",
       "      <td>100</td>\n",
       "      <td>[3]</td>\n",
       "      <td>(&lt;function sigmoid at 0x0000020A6D187BA0&gt;, &lt;fu...</td>\n",
       "      <td>[0.29729729729729726, 0.2777777777777778, 0.21...</td>\n",
       "      <td>[3.6010384559631348, 3.4330811500549316, 3.617...</td>\n",
       "      <td>[0.003999948501586914, 0.04398798942565918, 0....</td>\n",
       "      <td>0.244796</td>\n",
       "    </tr>\n",
       "    <tr>\n",
       "      <th>3</th>\n",
       "      <td>0.1</td>\n",
       "      <td>100</td>\n",
       "      <td>[3, 3]</td>\n",
       "      <td>(&lt;function sigmoid at 0x0000020A6D187BA0&gt;, &lt;fu...</td>\n",
       "      <td>[0.29729729729729726, 0.2777777777777778, 0.21...</td>\n",
       "      <td>[5.190312147140503, 5.098337888717651, 5.14632...</td>\n",
       "      <td>[0.007999658584594727, 0.011994361877441406, 0...</td>\n",
       "      <td>0.244796</td>\n",
       "    </tr>\n",
       "    <tr>\n",
       "      <th>4</th>\n",
       "      <td>0.2</td>\n",
       "      <td>10</td>\n",
       "      <td>[3]</td>\n",
       "      <td>(&lt;function sigmoid at 0x0000020A6D187BA0&gt;, &lt;fu...</td>\n",
       "      <td>[0.29729729729729726, 0.2777777777777778, 0.21...</td>\n",
       "      <td>[0.28392887115478516, 0.32391929626464844, 0.2...</td>\n",
       "      <td>[0.003999948501586914, 0.008002042770385742, 0...</td>\n",
       "      <td>0.244796</td>\n",
       "    </tr>\n",
       "    <tr>\n",
       "      <th>5</th>\n",
       "      <td>0.2</td>\n",
       "      <td>10</td>\n",
       "      <td>[3, 3]</td>\n",
       "      <td>(&lt;function sigmoid at 0x0000020A6D187BA0&gt;, &lt;fu...</td>\n",
       "      <td>[0.29729729729729726, 0.2777777777777778, 0.21...</td>\n",
       "      <td>[0.4518866539001465, 0.43589091300964355, 0.43...</td>\n",
       "      <td>[0.003998279571533203, 0.007999420166015625, 0...</td>\n",
       "      <td>0.244796</td>\n",
       "    </tr>\n",
       "    <tr>\n",
       "      <th>6</th>\n",
       "      <td>0.2</td>\n",
       "      <td>100</td>\n",
       "      <td>[3]</td>\n",
       "      <td>(&lt;function sigmoid at 0x0000020A6D187BA0&gt;, &lt;fu...</td>\n",
       "      <td>[0.29729729729729726, 0.2777777777777778, 0.21...</td>\n",
       "      <td>[3.459127426147461, 3.4991159439086914, 3.4271...</td>\n",
       "      <td>[0.003998756408691406, 0.03599286079406738, 0....</td>\n",
       "      <td>0.244796</td>\n",
       "    </tr>\n",
       "    <tr>\n",
       "      <th>7</th>\n",
       "      <td>0.2</td>\n",
       "      <td>100</td>\n",
       "      <td>[3, 3]</td>\n",
       "      <td>(&lt;function sigmoid at 0x0000020A6D187BA0&gt;, &lt;fu...</td>\n",
       "      <td>[0.29729729729729726, 0.2777777777777778, 0.21...</td>\n",
       "      <td>[5.059338331222534, 5.043345928192139, 5.13131...</td>\n",
       "      <td>[0.007997512817382812, 0.003996610641479492, 0...</td>\n",
       "      <td>0.244796</td>\n",
       "    </tr>\n",
       "  </tbody>\n",
       "</table>\n",
       "</div>"
      ],
      "text/plain": [
       "   learning_rate  epochs node_counts  \\\n",
       "0            0.1      10         [3]   \n",
       "1            0.1      10      [3, 3]   \n",
       "2            0.1     100         [3]   \n",
       "3            0.1     100      [3, 3]   \n",
       "4            0.2      10         [3]   \n",
       "5            0.2      10      [3, 3]   \n",
       "6            0.2     100         [3]   \n",
       "7            0.2     100      [3, 3]   \n",
       "\n",
       "                                 activation_function  \\\n",
       "0  (<function sigmoid at 0x0000020A6D187BA0>, <fu...   \n",
       "1  (<function sigmoid at 0x0000020A6D187BA0>, <fu...   \n",
       "2  (<function sigmoid at 0x0000020A6D187BA0>, <fu...   \n",
       "3  (<function sigmoid at 0x0000020A6D187BA0>, <fu...   \n",
       "4  (<function sigmoid at 0x0000020A6D187BA0>, <fu...   \n",
       "5  (<function sigmoid at 0x0000020A6D187BA0>, <fu...   \n",
       "6  (<function sigmoid at 0x0000020A6D187BA0>, <fu...   \n",
       "7  (<function sigmoid at 0x0000020A6D187BA0>, <fu...   \n",
       "\n",
       "                                          test_score  \\\n",
       "0  [0.29729729729729726, 0.2777777777777778, 0.21...   \n",
       "1  [0.29729729729729726, 0.2777777777777778, 0.21...   \n",
       "2  [0.29729729729729726, 0.2777777777777778, 0.21...   \n",
       "3  [0.29729729729729726, 0.2777777777777778, 0.21...   \n",
       "4  [0.29729729729729726, 0.2777777777777778, 0.21...   \n",
       "5  [0.29729729729729726, 0.2777777777777778, 0.21...   \n",
       "6  [0.29729729729729726, 0.2777777777777778, 0.21...   \n",
       "7  [0.29729729729729726, 0.2777777777777778, 0.21...   \n",
       "\n",
       "                                            fit_time  \\\n",
       "0  [0.3036165237426758, 0.315920352935791, 0.3599...   \n",
       "1  [0.48787784576416016, 0.4678800106048584, 0.49...   \n",
       "2  [3.6010384559631348, 3.4330811500549316, 3.617...   \n",
       "3  [5.190312147140503, 5.098337888717651, 5.14632...   \n",
       "4  [0.28392887115478516, 0.32391929626464844, 0.2...   \n",
       "5  [0.4518866539001465, 0.43589091300964355, 0.43...   \n",
       "6  [3.459127426147461, 3.4991159439086914, 3.4271...   \n",
       "7  [5.059338331222534, 5.043345928192139, 5.13131...   \n",
       "\n",
       "                                          score_time  score_mean  \n",
       "0  [0.00400090217590332, 0.007999420166015625, 0....    0.244796  \n",
       "1  [0.007998943328857422, 0.008001565933227539, 0...    0.244796  \n",
       "2  [0.003999948501586914, 0.04398798942565918, 0....    0.244796  \n",
       "3  [0.007999658584594727, 0.011994361877441406, 0...    0.244796  \n",
       "4  [0.003999948501586914, 0.008002042770385742, 0...    0.244796  \n",
       "5  [0.003998279571533203, 0.007999420166015625, 0...    0.244796  \n",
       "6  [0.003998756408691406, 0.03599286079406738, 0....    0.244796  \n",
       "7  [0.007997512817382812, 0.003996610641479492, 0...    0.244796  "
      ]
     },
     "execution_count": 26,
     "metadata": {},
     "output_type": "execute_result"
    }
   ],
   "source": [
    "params = {\n",
    "    \"learning_rate\": [0.1, 0.2],\n",
    "    \"epochs\": [10, 100],\n",
    "    \"node_counts\": [  [3], [3, 3]],\n",
    "    \"activation_function\":[(sigmoid,sigmoid_derivative)]\n",
    "}\n",
    "gs = GridSearcher(network, params, X_train, y_train)\n",
    "gs_results = gs.search()\n",
    "gs_results"
   ]
  },
  {
   "cell_type": "code",
   "execution_count": 27,
   "metadata": {},
   "outputs": [
    {
     "data": {
      "text/html": [
       "<div>\n",
       "<style scoped>\n",
       "    .dataframe tbody tr th:only-of-type {\n",
       "        vertical-align: middle;\n",
       "    }\n",
       "\n",
       "    .dataframe tbody tr th {\n",
       "        vertical-align: top;\n",
       "    }\n",
       "\n",
       "    .dataframe thead th {\n",
       "        text-align: right;\n",
       "    }\n",
       "</style>\n",
       "<table border=\"1\" class=\"dataframe\">\n",
       "  <thead>\n",
       "    <tr style=\"text-align: right;\">\n",
       "      <th></th>\n",
       "      <th>learning_rate</th>\n",
       "      <th>epochs</th>\n",
       "      <th>node_counts</th>\n",
       "      <th>activation_function</th>\n",
       "      <th>test_score</th>\n",
       "      <th>fit_time</th>\n",
       "      <th>score_time</th>\n",
       "      <th>score_mean</th>\n",
       "    </tr>\n",
       "  </thead>\n",
       "  <tbody>\n",
       "    <tr>\n",
       "      <th>0</th>\n",
       "      <td>0.1</td>\n",
       "      <td>10</td>\n",
       "      <td>[3]</td>\n",
       "      <td>(&lt;function sigmoid at 0x0000020A6D187BA0&gt;, &lt;fu...</td>\n",
       "      <td>[0.29729729729729726, 0.2777777777777778, 0.21...</td>\n",
       "      <td>[0.3036165237426758, 0.315920352935791, 0.3599...</td>\n",
       "      <td>[0.00400090217590332, 0.007999420166015625, 0....</td>\n",
       "      <td>0.244796</td>\n",
       "    </tr>\n",
       "  </tbody>\n",
       "</table>\n",
       "</div>"
      ],
      "text/plain": [
       "   learning_rate  epochs node_counts  \\\n",
       "0            0.1      10         [3]   \n",
       "\n",
       "                                 activation_function  \\\n",
       "0  (<function sigmoid at 0x0000020A6D187BA0>, <fu...   \n",
       "\n",
       "                                          test_score  \\\n",
       "0  [0.29729729729729726, 0.2777777777777778, 0.21...   \n",
       "\n",
       "                                            fit_time  \\\n",
       "0  [0.3036165237426758, 0.315920352935791, 0.3599...   \n",
       "\n",
       "                                          score_time  score_mean  \n",
       "0  [0.00400090217590332, 0.007999420166015625, 0....    0.244796  "
      ]
     },
     "execution_count": 27,
     "metadata": {},
     "output_type": "execute_result"
    }
   ],
   "source": [
    "selected_prams=gs_results.nlargest(1,['score_mean'])\n",
    "selected_prams"
   ]
  },
  {
   "cell_type": "code",
   "execution_count": 85,
   "metadata": {},
   "outputs": [
    {
     "name": "stdout",
     "output_type": "stream",
     "text": [
      "(<function sigmoid at 0x0000020A6D187BA0>, <function sigmoid_derivative at 0x0000020A6D187C40>)\n"
     ]
    }
   ],
   "source": [
    "a=selected_prams[\"activation_function\"]\n",
    "type(a)\n",
    "activation=[fun for fun in a.iloc[0]]\n",
    "# print ([globals().get(fun.__name__) for fun in a.iloc[0]])\n",
    "activation=tuple(activation)\n",
    "print(activation)\n",
    "\n"
   ]
  },
  {
   "cell_type": "code",
   "execution_count": 86,
   "metadata": {},
   "outputs": [],
   "source": [
    "new_network= Network(learning_rate=selected_prams[\"learning_rate\"], epochs=selected_prams[\"epochs\"], node_counts=selected_prams[\"node_counts\"],activation_function=activation)"
   ]
  },
  {
   "cell_type": "code",
   "execution_count": null,
   "metadata": {},
   "outputs": [],
   "source": [
    "new_network.fit(x_train, y_train)\n",
    "\n",
    "out = new_network.predict(x_test)"
   ]
  },
  {
   "cell_type": "code",
   "execution_count": null,
   "metadata": {},
   "outputs": [],
   "source": [
    "\n",
    "# learning_rate = 0.1\n",
    "\n",
    "\n",
    "# network1 = Network(learning_rate)\n",
    "# input_values = 16\n",
    "# output_values = 1\n",
    "# intermediate_values = 3\n",
    "# layers = 3\n",
    "# epochs = 1000\n",
    "\n",
    "# for j in range(layers):\n",
    "#     i = intermediate_values\n",
    "#     o = intermediate_values\n",
    "\n",
    "#     if not j:\n",
    "#         i = input_values\n",
    "#     elif j + 1 == layers:\n",
    "#         o = output_values\n",
    "\n",
    "#     fc = FcLayer(i, o)\n",
    "#     ac = AcLayer(tanh, tanh_prime)\n",
    "#     network1.add(fc)\n",
    "#     network1.add(ac)\n",
    "\n",
    "# network1.train(x_train, y_train, epochs=epochs)\n",
    "\n",
    "# out = network1.predict(x_train)"
   ]
  },
  {
   "cell_type": "code",
   "execution_count": null,
   "metadata": {},
   "outputs": [],
   "source": [
    "# y_pred=network1.predict(x_test)\n",
    "# y_pred=np.where(np.array(y_pred) > 0.5, 1, 0)\n",
    "# np.unique(y_pred)"
   ]
  },
  {
   "attachments": {},
   "cell_type": "markdown",
   "metadata": {},
   "source": [
    "***Classification report for Self Neural Network***"
   ]
  },
  {
   "cell_type": "code",
   "execution_count": null,
   "metadata": {},
   "outputs": [],
   "source": [
    "print(classification_report(y_pred=np.squeeze(y_pred),y_true=np.squeeze(y_test)))"
   ]
  },
  {
   "attachments": {},
   "cell_type": "markdown",
   "metadata": {},
   "source": [
    "***Tensor Flow***"
   ]
  },
  {
   "cell_type": "code",
   "execution_count": 281,
   "metadata": {},
   "outputs": [],
   "source": [
    "def train_model(x_train,y_train, num_nodes, dropout_prob,lr, batch_size, epochs):\n",
    "    nn_model=tf.keras.Sequential([tf.keras.layers.Dense(num_nodes, activation='relu', input_shape=(16,)),\n",
    "                              tf.keras.layers.Dropout(dropout_prob),\n",
    "                             tf.keras.layers.Dense(num_nodes, activation='relu'),\n",
    "                             tf.keras.layers.Dropout(dropout_prob),\n",
    "                             tf.keras.layers.Dense(1, activation='sigmoid')])\n",
    "\n",
    "    nn_model.compile(optimizer=tf.keras.optimizers.Adam(lr), loss=\"binary_crossentropy\",metrics=['accuracy'])\n",
    "\n",
    "    #x_train=x_train.astype(float)\n",
    "\n",
    "    history = nn_model.fit(x_train,y_train, epochs=epochs, batch_size=batch_size, validation_split=0.2, verbose=0)\n",
    "    return nn_model, history"
   ]
  },
  {
   "cell_type": "code",
   "execution_count": 282,
   "metadata": {},
   "outputs": [],
   "source": [
    "nn_model, history= train_model(np.squeeze(x_train),np.squeeze(y_train),16 , 0,0.1, 32, 1000)"
   ]
  },
  {
   "cell_type": "code",
   "execution_count": null,
   "metadata": {},
   "outputs": [],
   "source": [
    "y_pred=nn_model.predict(np.squeeze(x_test))\n",
    "y_pred=(y_pred>0.5).astype(int).reshape(-1)\n",
    "y_pred\n",
    "\n",
    "\n",
    "print(classification_report(y_pred,np.squeeze(y_test)))"
   ]
  }
 ],
 "metadata": {
  "kernelspec": {
   "display_name": "venv",
   "language": "python",
   "name": "python3"
  },
  "language_info": {
   "codemirror_mode": {
    "name": "ipython",
    "version": 3
   },
   "file_extension": ".py",
   "mimetype": "text/x-python",
   "name": "python",
   "nbconvert_exporter": "python",
   "pygments_lexer": "ipython3",
   "version": "3.11.2"
  },
  "orig_nbformat": 4
 },
 "nbformat": 4,
 "nbformat_minor": 2
}
