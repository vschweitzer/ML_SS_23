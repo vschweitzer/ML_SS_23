{
 "cells": [
  {
   "cell_type": "code",
   "execution_count": 1,
   "metadata": {},
   "outputs": [],
   "source": [
    "import numpy as np\n",
    "import pandas as pd\n",
    "import tensorflow as tf\n",
    "from Network import Network\n",
    "from GridSearch import GridSearcher\n",
    "from activation_functions import sigmoid, relu,relu_derivative, sigmoid_derivative, tanh, tanh_derivative\n",
    "from sklearn.metrics import classification_report\n",
    "from sklearn.preprocessing import StandardScaler\n",
    "from sklearn.model_selection import train_test_split\n",
    "from sklearn.model_selection import GridSearchCV\n"
   ]
  },
  {
   "cell_type": "code",
   "execution_count": 2,
   "metadata": {},
   "outputs": [],
   "source": [
    "# Set random seed for reproducibility\n",
    "np.random.seed(42)\n",
    "df_vote = pd.read_csv(\"CongressionalVotingID.shuf.lrn.csv\", index_col=\"ID\")\n",
    "df_vote = df_vote.applymap(lambda x: 1 if x == \"y\" else 0 if x == \"n\" else x)\n",
    "df_vote = df_vote.replace(\"democrat\", 1)\n",
    "df_vote = df_vote.replace(\"republican\", 0)\n",
    "df_vote = df_vote.replace(\"unknown\", 0)"
   ]
  },
  {
   "cell_type": "code",
   "execution_count": 3,
   "metadata": {},
   "outputs": [],
   "source": [
    "x_train, x_test, y_train, y_test = train_test_split(df_vote.iloc[:,1:], df_vote.iloc[:, 0],test_size=0.4, random_state=11)"
   ]
  },
  {
   "cell_type": "code",
   "execution_count": 10,
   "metadata": {},
   "outputs": [],
   "source": [
    "# x_train = np.expand_dims(x_train.to_numpy(), axis=1)\n",
    "# y_train = np.expand_dims(y_train.to_numpy(), axis=1)\n",
    "# x_test = np.expand_dims(x_test.to_numpy(), axis=1)\n",
    "# y_test = np.expand_dims(y_test.to_numpy(), axis=1)"
   ]
  },
  {
   "cell_type": "code",
   "execution_count": 4,
   "metadata": {},
   "outputs": [],
   "source": [
    "scaler = StandardScaler()\n",
    "X_train = scaler.fit_transform(x_train)\n",
    "X_test = scaler.transform(x_test)\n",
    "learning_rate=0.1"
   ]
  },
  {
   "cell_type": "code",
   "execution_count": 5,
   "metadata": {},
   "outputs": [],
   "source": [
    "network = Network(learning_rate, epochs=1000, node_counts = [3, 3, 3],activation_function=(tanh, tanh_derivative))"
   ]
  },
  {
   "cell_type": "code",
   "execution_count": 6,
   "metadata": {},
   "outputs": [
    {
     "name": "stdout",
     "output_type": "stream",
     "text": [
      "1 / 2\n",
      "2 / 2\n"
     ]
    },
    {
     "data": {
      "text/html": [
       "<div>\n",
       "<style scoped>\n",
       "    .dataframe tbody tr th:only-of-type {\n",
       "        vertical-align: middle;\n",
       "    }\n",
       "\n",
       "    .dataframe tbody tr th {\n",
       "        vertical-align: top;\n",
       "    }\n",
       "\n",
       "    .dataframe thead th {\n",
       "        text-align: right;\n",
       "    }\n",
       "</style>\n",
       "<table border=\"1\" class=\"dataframe\">\n",
       "  <thead>\n",
       "    <tr style=\"text-align: right;\">\n",
       "      <th></th>\n",
       "      <th>params</th>\n",
       "      <th>test_score</th>\n",
       "      <th>fit_time</th>\n",
       "      <th>score_time</th>\n",
       "      <th>score_mean</th>\n",
       "    </tr>\n",
       "  </thead>\n",
       "  <tbody>\n",
       "    <tr>\n",
       "      <th>0</th>\n",
       "      <td>{'learning_rate': 0.2, 'epochs': 10, 'node_cou...</td>\n",
       "      <td>[nan, nan, nan, nan, nan]</td>\n",
       "      <td>[0.17290019989013672, 0.16590356826782227, 0.1...</td>\n",
       "      <td>[0.0049974918365478516, 0.0049974918365478516,...</td>\n",
       "      <td>NaN</td>\n",
       "    </tr>\n",
       "    <tr>\n",
       "      <th>1</th>\n",
       "      <td>{'learning_rate': 0.2, 'epochs': 10, 'node_cou...</td>\n",
       "      <td>[nan, nan, nan, nan, nan]</td>\n",
       "      <td>[0.33780670166015625, 0.3747837543487549, 0.46...</td>\n",
       "      <td>[0.0029990673065185547, 0.004999399185180664, ...</td>\n",
       "      <td>NaN</td>\n",
       "    </tr>\n",
       "  </tbody>\n",
       "</table>\n",
       "</div>"
      ],
      "text/plain": [
       "                                              params  \\\n",
       "0  {'learning_rate': 0.2, 'epochs': 10, 'node_cou...   \n",
       "1  {'learning_rate': 0.2, 'epochs': 10, 'node_cou...   \n",
       "\n",
       "                  test_score  \\\n",
       "0  [nan, nan, nan, nan, nan]   \n",
       "1  [nan, nan, nan, nan, nan]   \n",
       "\n",
       "                                            fit_time  \\\n",
       "0  [0.17290019989013672, 0.16590356826782227, 0.1...   \n",
       "1  [0.33780670166015625, 0.3747837543487549, 0.46...   \n",
       "\n",
       "                                          score_time  score_mean  \n",
       "0  [0.0049974918365478516, 0.0049974918365478516,...         NaN  \n",
       "1  [0.0029990673065185547, 0.004999399185180664, ...         NaN  "
      ]
     },
     "execution_count": 6,
     "metadata": {},
     "output_type": "execute_result"
    }
   ],
   "source": [
    "params = {\n",
    "    \"learning_rate\": [0.2],\n",
    "    \"epochs\": [10],\n",
    "    \"node_counts\": [  [3], [3, 3]],\n",
    "    \"activation_function\":[(sigmoid,sigmoid_derivative)]\n",
    "}\n",
    "gs = GridSearcher(network, params, X_train, y_train)\n",
    "gs_results = gs.search()\n",
    "gs_results"
   ]
  },
  {
   "cell_type": "code",
   "execution_count": 7,
   "metadata": {},
   "outputs": [
    {
     "data": {
      "text/plain": [
       "{'learning_rate': 0.2,\n",
       " 'epochs': 10,\n",
       " 'node_counts': [3],\n",
       " 'activation_function': (<function activation_functions.sigmoid(x)>,\n",
       "  <function activation_functions.sigmoid_derivative(x)>)}"
      ]
     },
     "execution_count": 7,
     "metadata": {},
     "output_type": "execute_result"
    }
   ],
   "source": [
    "# params=gs_results.iloc[gs_results['score_mean'].idxmax()]\n",
    "# comment/delete the below line when grid search works with valid output\n",
    "params=gs_results.iloc[0] \n",
    "\n",
    "selected_prams=params[\"params\"]\n",
    "selected_prams"
   ]
  },
  {
   "cell_type": "code",
   "execution_count": 9,
   "metadata": {},
   "outputs": [],
   "source": [
    "new_network= Network(learning_rate=selected_prams[\"learning_rate\"], epochs=selected_prams[\"epochs\"], node_counts=selected_prams[\"node_counts\"],activation_function=selected_prams[\"activation_function\"]\n",
    ")"
   ]
  },
  {
   "cell_type": "code",
   "execution_count": 10,
   "metadata": {},
   "outputs": [
    {
     "ename": "TypeError",
     "evalue": "type numpy.ndarray doesn't define __round__ method",
     "output_type": "error",
     "traceback": [
      "\u001b[1;31m---------------------------------------------------------------------------\u001b[0m",
      "\u001b[1;31mTypeError\u001b[0m                                 Traceback (most recent call last)",
      "Cell \u001b[1;32mIn[10], line 3\u001b[0m\n\u001b[0;32m      1\u001b[0m new_network\u001b[39m.\u001b[39mfit(x_train, y_train)\n\u001b[1;32m----> 3\u001b[0m out \u001b[39m=\u001b[39m new_network\u001b[39m.\u001b[39;49mpredict(x_test)\n",
      "File \u001b[1;32mc:\\Users\\HP\\Documents\\ML\\Exerise2\\ML_SS_23\\src\\Network.py:68\u001b[0m, in \u001b[0;36mNetwork.predict\u001b[1;34m(self, data)\u001b[0m\n\u001b[0;32m     66\u001b[0m data \u001b[39m=\u001b[39m \u001b[39mself\u001b[39m\u001b[39m.\u001b[39m_clean_data(data)\n\u001b[0;32m     67\u001b[0m scores \u001b[39m=\u001b[39m \u001b[39mself\u001b[39m\u001b[39m.\u001b[39mpredict_score(data)\n\u001b[1;32m---> 68\u001b[0m \u001b[39mreturn\u001b[39;00m [\n\u001b[0;32m     69\u001b[0m     [\u001b[39m1\u001b[39;49m \u001b[39mif\u001b[39;49;00m value \u001b[39m==\u001b[39;49m np\u001b[39m.\u001b[39;49mmax(elem[\u001b[39m0\u001b[39;49m]) \u001b[39melse\u001b[39;49;00m \u001b[39m0\u001b[39;49m \u001b[39mfor\u001b[39;49;00m value \u001b[39min\u001b[39;49;00m elem[\u001b[39m0\u001b[39;49m]] \u001b[39mif\u001b[39;49;00m \u001b[39mlen\u001b[39;49m(elem[\u001b[39m0\u001b[39;49m]) \u001b[39m>\u001b[39;49m \u001b[39m1\u001b[39;49m \u001b[39melse\u001b[39;49;00m \u001b[39mround\u001b[39;49m(elem[\u001b[39m0\u001b[39;49m])\n\u001b[0;32m     70\u001b[0m     \u001b[39mfor\u001b[39;49;00m elem \u001b[39min\u001b[39;49;00m scores\n\u001b[0;32m     71\u001b[0m ]\n",
      "File \u001b[1;32mc:\\Users\\HP\\Documents\\ML\\Exerise2\\ML_SS_23\\src\\Network.py:69\u001b[0m, in \u001b[0;36m<listcomp>\u001b[1;34m(.0)\u001b[0m\n\u001b[0;32m     66\u001b[0m data \u001b[39m=\u001b[39m \u001b[39mself\u001b[39m\u001b[39m.\u001b[39m_clean_data(data)\n\u001b[0;32m     67\u001b[0m scores \u001b[39m=\u001b[39m \u001b[39mself\u001b[39m\u001b[39m.\u001b[39mpredict_score(data)\n\u001b[0;32m     68\u001b[0m \u001b[39mreturn\u001b[39;00m [\n\u001b[1;32m---> 69\u001b[0m     [\u001b[39m1\u001b[39m \u001b[39mif\u001b[39;00m value \u001b[39m==\u001b[39m np\u001b[39m.\u001b[39mmax(elem[\u001b[39m0\u001b[39m]) \u001b[39melse\u001b[39;00m \u001b[39m0\u001b[39m \u001b[39mfor\u001b[39;00m value \u001b[39min\u001b[39;00m elem[\u001b[39m0\u001b[39m]] \u001b[39mif\u001b[39;00m \u001b[39mlen\u001b[39m(elem[\u001b[39m0\u001b[39m]) \u001b[39m>\u001b[39m \u001b[39m1\u001b[39m \u001b[39melse\u001b[39;00m \u001b[39mround\u001b[39;49m(elem[\u001b[39m0\u001b[39;49m])\n\u001b[0;32m     70\u001b[0m     \u001b[39mfor\u001b[39;00m elem \u001b[39min\u001b[39;00m scores\n\u001b[0;32m     71\u001b[0m ]\n",
      "\u001b[1;31mTypeError\u001b[0m: type numpy.ndarray doesn't define __round__ method"
     ]
    }
   ],
   "source": [
    "new_network.fit(x_train, y_train)\n",
    "\n",
    "out = new_network.predict(x_test)"
   ]
  },
  {
   "cell_type": "code",
   "execution_count": null,
   "metadata": {},
   "outputs": [],
   "source": [
    "y_pred=new_network.predict(x_test)\n",
    "y_pred=np.where(np.array(y_pred) > 0.5, 1, 0)\n"
   ]
  },
  {
   "cell_type": "code",
   "execution_count": null,
   "metadata": {},
   "outputs": [],
   "source": [
    "def score(y_true, y_pred):\n",
    "    correct_predictions = 0\n",
    "    total_predictions = len(y_true)\n",
    "\n",
    "    for true_label, predicted_label in zip(y_true, y_pred):\n",
    "        if true_label == predicted_label:\n",
    "            correct_predictions += 1\n",
    "\n",
    "    accuracy = correct_predictions / total_predictions\n",
    "    return accuracy\n",
    "accuracy=score(y_test,y_pred)\n",
    "print(\"accuracy\")\n",
    "print(accuracy)"
   ]
  },
  {
   "attachments": {},
   "cell_type": "markdown",
   "metadata": {},
   "source": [
    "***Classification report for Self Neural Network***"
   ]
  },
  {
   "cell_type": "code",
   "execution_count": null,
   "metadata": {},
   "outputs": [],
   "source": [
    "print(classification_report(y_pred=np.squeeze(y_pred),y_true=np.squeeze(y_test)))"
   ]
  },
  {
   "attachments": {},
   "cell_type": "markdown",
   "metadata": {},
   "source": [
    "***Tensor Flow***"
   ]
  },
  {
   "cell_type": "code",
   "execution_count": 281,
   "metadata": {},
   "outputs": [],
   "source": [
    "def train_model(x_train,y_train, num_nodes, dropout_prob,lr, batch_size, epochs):\n",
    "    nn_model=tf.keras.Sequential([tf.keras.layers.Dense(num_nodes, activation='relu', input_shape=(16,)),\n",
    "                              tf.keras.layers.Dropout(dropout_prob),\n",
    "                             tf.keras.layers.Dense(num_nodes, activation='relu'),\n",
    "                             tf.keras.layers.Dropout(dropout_prob),\n",
    "                             tf.keras.layers.Dense(1, activation='sigmoid')])\n",
    "\n",
    "    nn_model.compile(optimizer=tf.keras.optimizers.Adam(lr), loss=\"binary_crossentropy\",metrics=['accuracy'])\n",
    "\n",
    "    #x_train=x_train.astype(float)\n",
    "\n",
    "    history = nn_model.fit(x_train,y_train, epochs=epochs, batch_size=batch_size, validation_split=0.2, verbose=0)\n",
    "    return nn_model, history"
   ]
  },
  {
   "cell_type": "code",
   "execution_count": 282,
   "metadata": {},
   "outputs": [],
   "source": [
    "nn_model, history= train_model(np.squeeze(x_train),np.squeeze(y_train),16 , 0,0.1, 32, 1000)"
   ]
  },
  {
   "cell_type": "code",
   "execution_count": null,
   "metadata": {},
   "outputs": [],
   "source": [
    "y_pred=nn_model.predict(np.squeeze(x_test))\n",
    "y_pred=(y_pred>0.5).astype(int).reshape(-1)\n",
    "y_pred\n",
    "\n",
    "\n",
    "print(classification_report(y_pred,np.squeeze(y_test)))"
   ]
  }
 ],
 "metadata": {
  "kernelspec": {
   "display_name": "venv",
   "language": "python",
   "name": "python3"
  },
  "language_info": {
   "codemirror_mode": {
    "name": "ipython",
    "version": 3
   },
   "file_extension": ".py",
   "mimetype": "text/x-python",
   "name": "python",
   "nbconvert_exporter": "python",
   "pygments_lexer": "ipython3",
   "version": "3.11.2"
  },
  "orig_nbformat": 4
 },
 "nbformat": 4,
 "nbformat_minor": 2
}
