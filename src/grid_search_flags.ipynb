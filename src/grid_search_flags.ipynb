{
 "cells": [
  {
   "cell_type": "code",
   "execution_count": 11,
   "metadata": {},
   "outputs": [],
   "source": [
    "%%capture\n",
    "%run preprocess_flags.ipynb\n",
    "df = normalized_df"
   ]
  },
  {
   "cell_type": "code",
   "execution_count": 12,
   "metadata": {},
   "outputs": [],
   "source": [
    "from sklearn.model_selection import train_test_split, GridSearchCV\n",
    "from sklearn.ensemble import RandomForestClassifier\n"
   ]
  },
  {
   "cell_type": "code",
   "execution_count": 13,
   "metadata": {},
   "outputs": [
    {
     "name": "stdout",
     "output_type": "stream",
     "text": [
      "RandomForestClassifier\n"
     ]
    }
   ],
   "source": [
    "train_set, test_set = train_test_split(df, test_size=0.7)\n",
    "random_state = 0\n",
    "classifiers = [RandomForestClassifier]\n",
    "parameter_grids = {\n",
    "    \"RandomForestClassifier\": [\n",
    "        {\n",
    "            \"criterion\": [\"gini\", \"entropy\"],\n",
    "            \"n_estimators\": [50, 100, 500, 1000, 5000, 10000],\n",
    "            \"max_features\": [\"sqrt\", \"log2\"],\n",
    "        }\n",
    "    ]\n",
    "}\n",
    "results = {}\n",
    "\n",
    "for classifier in classifiers:\n",
    "    classifier_name = classifier.__name__\n",
    "    parameter_grid = parameter_grids[classifier_name]\n",
    "    base_classifier = classifier(random_state=random_state)\n",
    "    print(classifier_name)\n",
    "    results[classifier_name] = GridSearchCV(base_classifier, param_grid=parameter_grid)\n",
    "\n"
   ]
  },
  {
   "cell_type": "code",
   "execution_count": null,
   "metadata": {},
   "outputs": [],
   "source": [
    "results"
   ]
  }
 ],
 "metadata": {
  "kernelspec": {
   "display_name": "venv",
   "language": "python",
   "name": "python3"
  },
  "language_info": {
   "codemirror_mode": {
    "name": "ipython",
    "version": 3
   },
   "file_extension": ".py",
   "mimetype": "text/x-python",
   "name": "python",
   "nbconvert_exporter": "python",
   "pygments_lexer": "ipython3",
   "version": "3.10.8"
  },
  "orig_nbformat": 4,
  "vscode": {
   "interpreter": {
    "hash": "37c7361227dc3e7733ba0d9221653a542190e1fc763a7f303852558240223e6a"
   }
  }
 },
 "nbformat": 4,
 "nbformat_minor": 2
}
