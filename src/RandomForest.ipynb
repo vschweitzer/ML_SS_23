{
 "cells": [
  {
   "cell_type": "code",
   "execution_count": 1,
   "metadata": {},
   "outputs": [],
   "source": [
    "import sys\n",
    "import os\n",
    "from sklearn.preprocessing import LabelEncoder\n",
    "import numpy as np\n",
    "import pandas as pd\n",
    "from sklearn.model_selection import train_test_split\n",
    "import tensorflow as tf\n",
    "from sklearn.preprocessing import StandardScaler\n",
    "from sklearn.model_selection import GridSearchCV\n",
    "from sklearn.datasets import make_classification\n",
    "from sklearn.ensemble import RandomForestClassifier\n",
    "from sklearn.metrics import confusion_matrix,accuracy_score, precision_score, recall_score, f1_score,classification_report"
   ]
  },
  {
   "attachments": {},
   "cell_type": "markdown",
   "metadata": {},
   "source": [
    "***Congressional Voting Dataset***"
   ]
  },
  {
   "cell_type": "code",
   "execution_count": 2,
   "metadata": {},
   "outputs": [],
   "source": [
    "# Set random seed for reproducibility\n",
    "np.random.seed(42)\n",
    "\n",
    "df_vote = pd.read_csv(\"CongressionalVotingID.shuf.lrn.csv\", index_col=\"ID\")\n",
    "df_vote = df_vote.applymap(lambda x: 1 if x == \"y\" else 0 if x == \"n\" else x)\n",
    "df_vote = df_vote.replace(\"democrat\", 1)\n",
    "df_vote = df_vote.replace(\"republican\", 0)\n",
    "df_vote = df_vote.replace(\"unknown\", 0)\n"
   ]
  },
  {
   "cell_type": "code",
   "execution_count": 3,
   "metadata": {},
   "outputs": [],
   "source": [
    "x_train, x_test, y_train, y_test = train_test_split(df_vote.iloc[:,1:], df_vote.iloc[:, 0],test_size=0.4, random_state=11)"
   ]
  },
  {
   "cell_type": "code",
   "execution_count": 4,
   "metadata": {},
   "outputs": [
    {
     "data": {
      "text/plain": [
       "{'max_features': 'sqrt', 'min_samples_split': 2, 'n_estimators': 300}"
      ]
     },
     "execution_count": 4,
     "metadata": {},
     "output_type": "execute_result"
    }
   ],
   "source": [
    "rfc = RandomForestClassifier(n_jobs=-1,max_features= 'sqrt' ,n_estimators=50, oob_score = True, ) \n",
    "\n",
    "param_grid = {\n",
    "    'n_estimators': [300, 200, 400],\n",
    "    'max_features': ['sqrt', 'log2', None],\n",
    "    'min_samples_split': [2, 5, 10]  # New category: min_samples_split\n",
    "}\n",
    "CV_rfc = GridSearchCV(estimator=rfc, param_grid=param_grid, cv= 5,scoring=\"f1_micro\")\n",
    "CV_rfc.fit(x_train, y_train)\n",
    "CV_rfc.best_params_"
   ]
  },
  {
   "cell_type": "code",
   "execution_count": 5,
   "metadata": {},
   "outputs": [
    {
     "name": "stdout",
     "output_type": "stream",
     "text": [
      "F1-score: 0.9607843137254902\n",
      "The best parameters are: {'max_features': 'sqrt', 'min_samples_split': 2, 'n_estimators': 300}\n"
     ]
    },
    {
     "data": {
      "text/plain": [
       "{'max_features': 'sqrt', 'min_samples_split': 2, 'n_estimators': 300}"
      ]
     },
     "execution_count": 5,
     "metadata": {},
     "output_type": "execute_result"
    }
   ],
   "source": [
    "y_pred=CV_rfc.predict(x_test)\n",
    "print('F1-score:', f1_score(y_test, y_pred))\n",
    "print('The best parameters are:', CV_rfc.best_params_)\n",
    "CV_rfc.best_params_"
   ]
  },
  {
   "attachments": {},
   "cell_type": "markdown",
   "metadata": {},
   "source": [
    "***Spam dataset***"
   ]
  },
  {
   "cell_type": "code",
   "execution_count": 6,
   "metadata": {},
   "outputs": [],
   "source": [
    "data = pd.read_csv(\"../datasets/spam_final_df.data\")"
   ]
  },
  {
   "cell_type": "code",
   "execution_count": 7,
   "metadata": {},
   "outputs": [],
   "source": [
    "x_train, x_test, y_train, y_test = train_test_split(data.iloc[:, :-1], data.iloc[:, -1], test_size=0.2, random_state=26)\n",
    "scaler = StandardScaler()\n",
    "X_train = scaler.fit_transform(x_train)\n",
    "X_test = scaler.transform(x_test)"
   ]
  },
  {
   "cell_type": "code",
   "execution_count": 8,
   "metadata": {},
   "outputs": [
    {
     "data": {
      "text/plain": [
       "{'max_features': 'log2', 'min_samples_split': 2, 'n_estimators': 400}"
      ]
     },
     "execution_count": 8,
     "metadata": {},
     "output_type": "execute_result"
    }
   ],
   "source": [
    "rfc = RandomForestClassifier(n_jobs=-1,max_features= 'sqrt' ,n_estimators=50, oob_score = True, ) \n",
    "\n",
    "param_grid = {\n",
    "    'n_estimators': [300, 200, 400],\n",
    "    'max_features': ['sqrt', 'log2', None],\n",
    "    'min_samples_split': [2, 5, 10]  # New category: min_samples_split\n",
    "}\n",
    "\n",
    "CV_rfc = GridSearchCV(estimator=rfc, param_grid=param_grid, cv= 5,scoring=\"f1_micro\")\n",
    "CV_rfc.fit(x_train, y_train)\n",
    "CV_rfc.best_params_"
   ]
  },
  {
   "cell_type": "code",
   "execution_count": 9,
   "metadata": {},
   "outputs": [
    {
     "name": "stdout",
     "output_type": "stream",
     "text": [
      "F1-score: 0.9415041782729805\n",
      "The best parameters are: {'max_features': 'log2', 'min_samples_split': 2, 'n_estimators': 400}\n"
     ]
    }
   ],
   "source": [
    "y_pred=CV_rfc.predict(x_test)\n",
    "print('F1-score:', f1_score(y_test, y_pred))\n",
    "print('The best parameters are:', CV_rfc.best_params_)"
   ]
  },
  {
   "attachments": {},
   "cell_type": "markdown",
   "metadata": {},
   "source": [
    "***Flag dataset***"
   ]
  },
  {
   "cell_type": "code",
   "execution_count": 10,
   "metadata": {},
   "outputs": [
    {
     "data": {
      "text/html": [
       "<div>\n",
       "<style scoped>\n",
       "    .dataframe tbody tr th:only-of-type {\n",
       "        vertical-align: middle;\n",
       "    }\n",
       "\n",
       "    .dataframe tbody tr th {\n",
       "        vertical-align: top;\n",
       "    }\n",
       "\n",
       "    .dataframe thead th {\n",
       "        text-align: right;\n",
       "    }\n",
       "</style>\n",
       "<table border=\"1\" class=\"dataframe\">\n",
       "  <thead>\n",
       "    <tr style=\"text-align: right;\">\n",
       "      <th></th>\n",
       "      <th>name</th>\n",
       "      <th>landmass</th>\n",
       "      <th>zone</th>\n",
       "      <th>area</th>\n",
       "      <th>population</th>\n",
       "      <th>language</th>\n",
       "      <th>religion</th>\n",
       "      <th>bars</th>\n",
       "      <th>stripes</th>\n",
       "      <th>colours</th>\n",
       "      <th>...</th>\n",
       "      <th>saltires</th>\n",
       "      <th>quarters</th>\n",
       "      <th>sunstars</th>\n",
       "      <th>crescent</th>\n",
       "      <th>triangle</th>\n",
       "      <th>icon</th>\n",
       "      <th>animate</th>\n",
       "      <th>text</th>\n",
       "      <th>topleft</th>\n",
       "      <th>botright</th>\n",
       "    </tr>\n",
       "  </thead>\n",
       "  <tbody>\n",
       "    <tr>\n",
       "      <th>0</th>\n",
       "      <td>Afghanistan</td>\n",
       "      <td>5</td>\n",
       "      <td>1</td>\n",
       "      <td>648</td>\n",
       "      <td>16</td>\n",
       "      <td>10</td>\n",
       "      <td>2</td>\n",
       "      <td>0</td>\n",
       "      <td>3</td>\n",
       "      <td>5</td>\n",
       "      <td>...</td>\n",
       "      <td>0</td>\n",
       "      <td>0</td>\n",
       "      <td>1</td>\n",
       "      <td>0</td>\n",
       "      <td>0</td>\n",
       "      <td>1</td>\n",
       "      <td>0</td>\n",
       "      <td>0</td>\n",
       "      <td>black</td>\n",
       "      <td>green</td>\n",
       "    </tr>\n",
       "    <tr>\n",
       "      <th>1</th>\n",
       "      <td>Albania</td>\n",
       "      <td>3</td>\n",
       "      <td>1</td>\n",
       "      <td>29</td>\n",
       "      <td>3</td>\n",
       "      <td>6</td>\n",
       "      <td>6</td>\n",
       "      <td>0</td>\n",
       "      <td>0</td>\n",
       "      <td>3</td>\n",
       "      <td>...</td>\n",
       "      <td>0</td>\n",
       "      <td>0</td>\n",
       "      <td>1</td>\n",
       "      <td>0</td>\n",
       "      <td>0</td>\n",
       "      <td>0</td>\n",
       "      <td>1</td>\n",
       "      <td>0</td>\n",
       "      <td>red</td>\n",
       "      <td>red</td>\n",
       "    </tr>\n",
       "    <tr>\n",
       "      <th>2</th>\n",
       "      <td>Algeria</td>\n",
       "      <td>4</td>\n",
       "      <td>1</td>\n",
       "      <td>2388</td>\n",
       "      <td>20</td>\n",
       "      <td>8</td>\n",
       "      <td>2</td>\n",
       "      <td>2</td>\n",
       "      <td>0</td>\n",
       "      <td>3</td>\n",
       "      <td>...</td>\n",
       "      <td>0</td>\n",
       "      <td>0</td>\n",
       "      <td>1</td>\n",
       "      <td>1</td>\n",
       "      <td>0</td>\n",
       "      <td>0</td>\n",
       "      <td>0</td>\n",
       "      <td>0</td>\n",
       "      <td>green</td>\n",
       "      <td>white</td>\n",
       "    </tr>\n",
       "    <tr>\n",
       "      <th>3</th>\n",
       "      <td>American-Samoa</td>\n",
       "      <td>6</td>\n",
       "      <td>3</td>\n",
       "      <td>0</td>\n",
       "      <td>0</td>\n",
       "      <td>1</td>\n",
       "      <td>1</td>\n",
       "      <td>0</td>\n",
       "      <td>0</td>\n",
       "      <td>5</td>\n",
       "      <td>...</td>\n",
       "      <td>0</td>\n",
       "      <td>0</td>\n",
       "      <td>0</td>\n",
       "      <td>0</td>\n",
       "      <td>1</td>\n",
       "      <td>1</td>\n",
       "      <td>1</td>\n",
       "      <td>0</td>\n",
       "      <td>blue</td>\n",
       "      <td>red</td>\n",
       "    </tr>\n",
       "    <tr>\n",
       "      <th>4</th>\n",
       "      <td>Andorra</td>\n",
       "      <td>3</td>\n",
       "      <td>1</td>\n",
       "      <td>0</td>\n",
       "      <td>0</td>\n",
       "      <td>6</td>\n",
       "      <td>0</td>\n",
       "      <td>3</td>\n",
       "      <td>0</td>\n",
       "      <td>3</td>\n",
       "      <td>...</td>\n",
       "      <td>0</td>\n",
       "      <td>0</td>\n",
       "      <td>0</td>\n",
       "      <td>0</td>\n",
       "      <td>0</td>\n",
       "      <td>0</td>\n",
       "      <td>0</td>\n",
       "      <td>0</td>\n",
       "      <td>blue</td>\n",
       "      <td>red</td>\n",
       "    </tr>\n",
       "    <tr>\n",
       "      <th>...</th>\n",
       "      <td>...</td>\n",
       "      <td>...</td>\n",
       "      <td>...</td>\n",
       "      <td>...</td>\n",
       "      <td>...</td>\n",
       "      <td>...</td>\n",
       "      <td>...</td>\n",
       "      <td>...</td>\n",
       "      <td>...</td>\n",
       "      <td>...</td>\n",
       "      <td>...</td>\n",
       "      <td>...</td>\n",
       "      <td>...</td>\n",
       "      <td>...</td>\n",
       "      <td>...</td>\n",
       "      <td>...</td>\n",
       "      <td>...</td>\n",
       "      <td>...</td>\n",
       "      <td>...</td>\n",
       "      <td>...</td>\n",
       "      <td>...</td>\n",
       "    </tr>\n",
       "    <tr>\n",
       "      <th>189</th>\n",
       "      <td>Western-Samoa</td>\n",
       "      <td>6</td>\n",
       "      <td>3</td>\n",
       "      <td>3</td>\n",
       "      <td>0</td>\n",
       "      <td>1</td>\n",
       "      <td>1</td>\n",
       "      <td>0</td>\n",
       "      <td>0</td>\n",
       "      <td>3</td>\n",
       "      <td>...</td>\n",
       "      <td>0</td>\n",
       "      <td>1</td>\n",
       "      <td>5</td>\n",
       "      <td>0</td>\n",
       "      <td>0</td>\n",
       "      <td>0</td>\n",
       "      <td>0</td>\n",
       "      <td>0</td>\n",
       "      <td>blue</td>\n",
       "      <td>red</td>\n",
       "    </tr>\n",
       "    <tr>\n",
       "      <th>190</th>\n",
       "      <td>Yugoslavia</td>\n",
       "      <td>3</td>\n",
       "      <td>1</td>\n",
       "      <td>256</td>\n",
       "      <td>22</td>\n",
       "      <td>6</td>\n",
       "      <td>6</td>\n",
       "      <td>0</td>\n",
       "      <td>3</td>\n",
       "      <td>4</td>\n",
       "      <td>...</td>\n",
       "      <td>0</td>\n",
       "      <td>0</td>\n",
       "      <td>1</td>\n",
       "      <td>0</td>\n",
       "      <td>0</td>\n",
       "      <td>0</td>\n",
       "      <td>0</td>\n",
       "      <td>0</td>\n",
       "      <td>blue</td>\n",
       "      <td>red</td>\n",
       "    </tr>\n",
       "    <tr>\n",
       "      <th>191</th>\n",
       "      <td>Zaire</td>\n",
       "      <td>4</td>\n",
       "      <td>2</td>\n",
       "      <td>905</td>\n",
       "      <td>28</td>\n",
       "      <td>10</td>\n",
       "      <td>5</td>\n",
       "      <td>0</td>\n",
       "      <td>0</td>\n",
       "      <td>4</td>\n",
       "      <td>...</td>\n",
       "      <td>0</td>\n",
       "      <td>0</td>\n",
       "      <td>0</td>\n",
       "      <td>0</td>\n",
       "      <td>0</td>\n",
       "      <td>1</td>\n",
       "      <td>1</td>\n",
       "      <td>0</td>\n",
       "      <td>green</td>\n",
       "      <td>green</td>\n",
       "    </tr>\n",
       "    <tr>\n",
       "      <th>192</th>\n",
       "      <td>Zambia</td>\n",
       "      <td>4</td>\n",
       "      <td>2</td>\n",
       "      <td>753</td>\n",
       "      <td>6</td>\n",
       "      <td>10</td>\n",
       "      <td>5</td>\n",
       "      <td>3</td>\n",
       "      <td>0</td>\n",
       "      <td>4</td>\n",
       "      <td>...</td>\n",
       "      <td>0</td>\n",
       "      <td>0</td>\n",
       "      <td>0</td>\n",
       "      <td>0</td>\n",
       "      <td>0</td>\n",
       "      <td>0</td>\n",
       "      <td>1</td>\n",
       "      <td>0</td>\n",
       "      <td>green</td>\n",
       "      <td>brown</td>\n",
       "    </tr>\n",
       "    <tr>\n",
       "      <th>193</th>\n",
       "      <td>Zimbabwe</td>\n",
       "      <td>4</td>\n",
       "      <td>2</td>\n",
       "      <td>391</td>\n",
       "      <td>8</td>\n",
       "      <td>10</td>\n",
       "      <td>5</td>\n",
       "      <td>0</td>\n",
       "      <td>7</td>\n",
       "      <td>5</td>\n",
       "      <td>...</td>\n",
       "      <td>0</td>\n",
       "      <td>0</td>\n",
       "      <td>1</td>\n",
       "      <td>0</td>\n",
       "      <td>1</td>\n",
       "      <td>1</td>\n",
       "      <td>1</td>\n",
       "      <td>0</td>\n",
       "      <td>green</td>\n",
       "      <td>green</td>\n",
       "    </tr>\n",
       "  </tbody>\n",
       "</table>\n",
       "<p>194 rows × 30 columns</p>\n",
       "</div>"
      ],
      "text/plain": [
       "               name  landmass  zone  area  population  language  religion  \\\n",
       "0       Afghanistan         5     1   648          16        10         2   \n",
       "1           Albania         3     1    29           3         6         6   \n",
       "2           Algeria         4     1  2388          20         8         2   \n",
       "3    American-Samoa         6     3     0           0         1         1   \n",
       "4           Andorra         3     1     0           0         6         0   \n",
       "..              ...       ...   ...   ...         ...       ...       ...   \n",
       "189   Western-Samoa         6     3     3           0         1         1   \n",
       "190      Yugoslavia         3     1   256          22         6         6   \n",
       "191           Zaire         4     2   905          28        10         5   \n",
       "192          Zambia         4     2   753           6        10         5   \n",
       "193        Zimbabwe         4     2   391           8        10         5   \n",
       "\n",
       "     bars  stripes  colours  ...  saltires  quarters  sunstars  crescent  \\\n",
       "0       0        3        5  ...         0         0         1         0   \n",
       "1       0        0        3  ...         0         0         1         0   \n",
       "2       2        0        3  ...         0         0         1         1   \n",
       "3       0        0        5  ...         0         0         0         0   \n",
       "4       3        0        3  ...         0         0         0         0   \n",
       "..    ...      ...      ...  ...       ...       ...       ...       ...   \n",
       "189     0        0        3  ...         0         1         5         0   \n",
       "190     0        3        4  ...         0         0         1         0   \n",
       "191     0        0        4  ...         0         0         0         0   \n",
       "192     3        0        4  ...         0         0         0         0   \n",
       "193     0        7        5  ...         0         0         1         0   \n",
       "\n",
       "     triangle  icon  animate text  topleft  botright  \n",
       "0           0     1        0    0    black     green  \n",
       "1           0     0        1    0      red       red  \n",
       "2           0     0        0    0    green     white  \n",
       "3           1     1        1    0     blue       red  \n",
       "4           0     0        0    0     blue       red  \n",
       "..        ...   ...      ...  ...      ...       ...  \n",
       "189         0     0        0    0     blue       red  \n",
       "190         0     0        0    0     blue       red  \n",
       "191         0     1        1    0    green     green  \n",
       "192         0     0        1    0    green     brown  \n",
       "193         1     1        1    0    green     green  \n",
       "\n",
       "[194 rows x 30 columns]"
      ]
     },
     "execution_count": 10,
     "metadata": {},
     "output_type": "execute_result"
    }
   ],
   "source": [
    "#Load dataset\n",
    "\n",
    "#flags_dir: str = \"../datasets/flags/\"\n",
    "#flags_path: str = os.path.abspath(os.path.join(flags_dir, \"flag.data\"))\n",
    "\n",
    "religions: dict = {0: \"Catholic\", 1: \"Other Christian\", 2: \"Muslim\", 3: \"Buddhist\", 4: \"Hindu\", 5: \"Ethnic\", 6: \"Marxist\", 7: \"Others\"}\n",
    "languages: dict = {1: \"English\", 2: \"Spanish\", 3: \"French\", 4: \"German\", 5: \"Slavic\", 6: \"Other Indo-European\", 7: \"Chinese\", 8: \"Arabic\", 9: \"Japanese/Turkish/Finnish/Magyar\", 10: \"Others\"}\n",
    "\n",
    "columns: list = [\n",
    "    \"name\",\n",
    "    \"landmass\",\n",
    "    \"zone\",\n",
    "    \"area\",\n",
    "    \"population\",\n",
    "    \"language\",\n",
    "    \"religion\",\n",
    "    \"bars\",\n",
    "    \"stripes\",\n",
    "    \"colours\",\n",
    "    \"red\",\n",
    "    \"green\",\n",
    "    \"blue\",\n",
    "    \"gold\",\n",
    "    \"white\",\n",
    "    \"black\",\n",
    "    \"orange\",\n",
    "    \"mainhue\",\n",
    "    \"circles\",\n",
    "    \"crosses\",\n",
    "    \"saltires\",\n",
    "    \"quarters\",\n",
    "    \"sunstars\",\n",
    "    \"crescent\",\n",
    "    \"triangle\",\n",
    "    \"icon\",\n",
    "    \"animate\",\n",
    "    \"text\",\n",
    "    \"topleft\",\n",
    "    \"botright\",\n",
    "]\n",
    "\n",
    "flags_raw_df = pd.read_csv(\"../datasets/flags/flag.data\", sep=\",\", header=None, names=columns)\n",
    "flags_raw_df"
   ]
  },
  {
   "cell_type": "code",
   "execution_count": 11,
   "metadata": {},
   "outputs": [],
   "source": [
    "named_df = flags_raw_df\n",
    "named_df[\"language\"].replace(languages, inplace=True)\n",
    "named_df[\"religion\"].replace(religions, inplace=True)"
   ]
  },
  {
   "cell_type": "code",
   "execution_count": 12,
   "metadata": {},
   "outputs": [],
   "source": [
    "to_one_hot: list = [\"mainhue\", \"landmass\", \"zone\", \"language\", \"topleft\", \"botright\"]\n",
    "one_hot_df = named_df\n",
    "\n",
    "for col in to_one_hot:\n",
    "    one_hot_df = pd.get_dummies(data=one_hot_df, columns=[col], prefix=col)"
   ]
  },
  {
   "cell_type": "code",
   "execution_count": 13,
   "metadata": {},
   "outputs": [],
   "source": [
    "to_normalize: list = [\"area\", \"population\", \"bars\", \"stripes\", \"colours\", \"circles\", \"crosses\", \"saltires\", \"quarters\", \"sunstars\"]\n",
    "normalized_df = one_hot_df\n",
    "unscaled_df = one_hot_df.copy()\n",
    "for col in to_normalize:\n",
    "    normalized_df[col] = normalized_df[col].div(normalized_df[col].max())\n"
   ]
  },
  {
   "cell_type": "code",
   "execution_count": 14,
   "metadata": {},
   "outputs": [],
   "source": [
    "df = normalized_df\n",
    "random_state: int = 0\n",
    "np.random.seed(42)\n",
    "X = df.drop(\"religion\", axis=1)\n",
    "y = df[\"religion\"]\n",
    "religion_encoder = LabelEncoder()\n",
    "religion_encoder.fit(y)\n",
    "y = religion_encoder.transform(y)\n",
    "\n",
    "x_train, x_test, y_train, y_test = train_test_split(X, y, test_size=1/3)\n",
    "\n",
    "train_countries = x_train[\"name\"]\n",
    "test_countries = x_test[\"name\"]\n",
    "\n",
    "x_train.drop(\"name\", axis=1, inplace=True)\n",
    "x_test.drop(\"name\", axis=1, inplace=True)"
   ]
  },
  {
   "cell_type": "code",
   "execution_count": 15,
   "metadata": {},
   "outputs": [
    {
     "data": {
      "text/plain": [
       "array([0, 1, 2, 3, 4, 5, 6, 7])"
      ]
     },
     "execution_count": 15,
     "metadata": {},
     "output_type": "execute_result"
    }
   ],
   "source": [
    "np.unique(y_train)"
   ]
  },
  {
   "cell_type": "code",
   "execution_count": 16,
   "metadata": {},
   "outputs": [
    {
     "name": "stderr",
     "output_type": "stream",
     "text": [
      "c:\\Users\\awtfh\\AppData\\Local\\Programs\\Python\\Python311\\Lib\\site-packages\\sklearn\\model_selection\\_split.py:700: UserWarning: The least populated class in y has only 2 members, which is less than n_splits=5.\n",
      "  warnings.warn(\n"
     ]
    },
    {
     "data": {
      "text/plain": [
       "{'max_features': 'sqrt', 'min_samples_split': 2, 'n_estimators': 300}"
      ]
     },
     "execution_count": 16,
     "metadata": {},
     "output_type": "execute_result"
    }
   ],
   "source": [
    "rfc = RandomForestClassifier(n_jobs=-1,max_features= 'sqrt' ,n_estimators=50, oob_score = True ) \n",
    "\n",
    "param_grid = {\n",
    "    'n_estimators': [300, 200, 400],\n",
    "    'max_features': ['sqrt', 'log2', None],\n",
    "    'min_samples_split': [2, 5, 10]  # New category: min_samples_split\n",
    "}\n",
    "\n",
    "CV_rfc = GridSearchCV(estimator=rfc, param_grid=param_grid, cv= 5,scoring=\"f1_micro\")\n",
    "CV_rfc.fit(x_train, y_train)\n",
    "CV_rfc.best_params_"
   ]
  },
  {
   "cell_type": "code",
   "execution_count": 17,
   "metadata": {},
   "outputs": [
    {
     "name": "stdout",
     "output_type": "stream",
     "text": [
      "F1-score: 0.5370413154779731\n",
      "The best parameters are: {'max_features': 'sqrt', 'min_samples_split': 2, 'n_estimators': 300}\n"
     ]
    }
   ],
   "source": [
    "y_pred=CV_rfc.predict(x_test)\n",
    "#print('F1-score:', f1_score(y_test, y_pred))\n",
    "print('F1-score:', f1_score(y_test, y_pred, average='macro'))\n",
    "print('The best parameters are:', CV_rfc.best_params_)"
   ]
  },
  {
   "cell_type": "code",
   "execution_count": null,
   "metadata": {},
   "outputs": [],
   "source": []
  }
 ],
 "metadata": {
  "kernelspec": {
   "display_name": "Python 3",
   "language": "python",
   "name": "python3"
  },
  "language_info": {
   "codemirror_mode": {
    "name": "ipython",
    "version": 3
   },
   "file_extension": ".py",
   "mimetype": "text/x-python",
   "name": "python",
   "nbconvert_exporter": "python",
   "pygments_lexer": "ipython3",
   "version": "3.11.1"
  },
  "orig_nbformat": 4
 },
 "nbformat": 4,
 "nbformat_minor": 2
}
