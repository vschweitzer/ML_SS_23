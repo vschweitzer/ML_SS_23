{
 "cells": [
  {
   "cell_type": "code",
   "execution_count": 96,
   "metadata": {},
   "outputs": [],
   "source": [
    "%run preprocess_congressional.ipynb"
   ]
  },
  {
   "cell_type": "code",
   "execution_count": 107,
   "metadata": {},
   "outputs": [],
   "source": [
    "\n",
    "import numpy as np\n",
    "\n",
    "from FCLayer import FcLayer\n",
    "from ACLayer import AcLayer\n",
    "from Network import Network\n",
    "from activation_functions import sigmoid, relu, sigmoid_prime, tanh, tanh_prime\n",
    "from sklearn.model_selection import train_test_split"
   ]
  },
  {
   "cell_type": "code",
   "execution_count": 108,
   "metadata": {},
   "outputs": [],
   "source": [
    "learning_rate = 0.1\n",
    "epochs = 1000\n",
    "network1 = Network(learning_rate=learning_rate, epochs=epochs)\n",
    "X_train = X_train"
   ]
  },
  {
   "cell_type": "code",
   "execution_count": 109,
   "metadata": {},
   "outputs": [
    {
     "data": {
      "text/plain": [
       "array([[0, 0, 0, ..., 0, 0, 0],\n",
       "       [1, 0, 1, ..., 0, 1, 1],\n",
       "       [1, 1, 0, ..., 1, 0, 0],\n",
       "       ...,\n",
       "       [1, 0, 0, ..., 1, 1, 1],\n",
       "       [0, 0, 1, ..., 1, 0, 1],\n",
       "       [1, 1, 1, ..., 1, 0, 0]])"
      ]
     },
     "execution_count": 109,
     "metadata": {},
     "output_type": "execute_result"
    }
   ],
   "source": [
    "X_train.to_numpy()"
   ]
  },
  {
   "cell_type": "code",
   "execution_count": 110,
   "metadata": {},
   "outputs": [
    {
     "data": {
      "text/plain": [
       "array([0, 1, 1, 1, 0, 0, 1, 1, 1, 1, 1, 1, 1, 0, 1, 0, 1, 1, 1, 1, 1, 0,\n",
       "       1, 1, 1, 1, 1, 1, 1, 0, 1, 0, 1, 1, 1, 1, 0, 1, 1, 1, 1, 0, 0, 0,\n",
       "       1, 0, 1, 0, 1, 1, 0, 0, 0, 0, 1, 1, 0, 1, 0, 1, 1, 1, 1, 0, 1, 0,\n",
       "       0, 1, 0, 1, 1, 0, 0, 1, 0, 1, 0, 1, 1, 1, 0, 0, 1, 1, 1, 0, 0, 0,\n",
       "       1, 1, 1, 0, 0, 1, 1, 1, 1, 1, 0, 0, 1, 1, 0, 0, 0, 1, 1, 1, 0, 1,\n",
       "       0, 1, 1, 1, 1, 1, 1, 1, 0, 1, 0, 1, 0, 1, 1, 1, 1, 0, 1, 1, 0, 1,\n",
       "       1, 1, 0, 1, 1, 1, 0, 0, 0, 1, 1, 1, 0, 1, 0, 1, 0, 0, 0, 1, 0, 1,\n",
       "       1, 1, 1, 0, 0, 1, 0, 0, 0, 1, 1, 0, 1, 0, 0, 1, 0, 1, 0, 1, 0, 1,\n",
       "       1, 0, 1, 1, 1, 1, 0, 0, 1, 1, 0, 0, 1, 0, 1, 1, 1, 1, 1, 1, 1, 0,\n",
       "       0, 0, 1, 0, 1, 1, 1, 1, 1, 1, 1, 1, 1, 0, 1, 1, 1, 0, 0, 1])"
      ]
     },
     "execution_count": 110,
     "metadata": {},
     "output_type": "execute_result"
    }
   ],
   "source": [
    "y_train.to_numpy()"
   ]
  },
  {
   "cell_type": "code",
   "execution_count": 111,
   "metadata": {},
   "outputs": [],
   "source": [
    "\n",
    "\n",
    "input_values = len(X_train.columns)\n",
    "output_values = 1\n",
    "intermediate_values = 3\n",
    "layers = 3\n",
    "\n",
    "for j in range(layers):\n",
    "    i = intermediate_values\n",
    "    o = intermediate_values\n",
    "\n",
    "    if not j:\n",
    "        i = input_values\n",
    "    elif j + 1 == layers:\n",
    "        o = output_values\n",
    "\n",
    "    fc = FcLayer(i, o)\n",
    "    ac = AcLayer(tanh, tanh_prime)\n",
    "    network1.add(fc)\n",
    "    network1.add(ac)\n",
    "\n",
    "#"
   ]
  },
  {
   "cell_type": "code",
   "execution_count": 112,
   "metadata": {},
   "outputs": [
    {
     "data": {
      "text/plain": [
       "ID\n",
       "249    0\n",
       "140    1\n",
       "383    1\n",
       "201    1\n",
       "297    0\n",
       "      ..\n",
       "106    1\n",
       "271    1\n",
       "275    0\n",
       "354    0\n",
       "324    1\n",
       "Name: class, Length: 218, dtype: int64"
      ]
     },
     "execution_count": 112,
     "metadata": {},
     "output_type": "execute_result"
    }
   ],
   "source": [
    "network1.fit(X_train,y_train)\n",
    "y_train\n"
   ]
  },
  {
   "cell_type": "code",
   "execution_count": 103,
   "metadata": {},
   "outputs": [
    {
     "data": {
      "text/plain": [
       "16"
      ]
     },
     "execution_count": 103,
     "metadata": {},
     "output_type": "execute_result"
    }
   ],
   "source": [
    "np.expand_dims(X_train.to_numpy(), axis=1).shape[2]\n"
   ]
  },
  {
   "cell_type": "code",
   "execution_count": 104,
   "metadata": {},
   "outputs": [
    {
     "name": "stdout",
     "output_type": "stream",
     "text": [
      "Predict function works\n",
      "[array([[0.01900511]]), array([[0.74383322]]), array([[0.74393034]]), array([[0.7438772]]), array([[0.74429986]]), array([[0.74296171]]), array([[0.73817944]]), array([[0.74388944]]), array([[0.74427081]]), array([[0.73356644]]), array([[0.74398303]]), array([[0.74410493]]), array([[0.74377139]]), array([[0.73811021]]), array([[0.74432669]]), array([[0.74437061]]), array([[0.74204129]]), array([[0.74268192]]), array([[0.74376186]]), array([[0.74432856]]), array([[0.74427628]]), array([[0.74266633]]), array([[0.74436885]]), array([[0.74422654]]), array([[0.74427081]]), array([[0.74358623]]), array([[0.74395052]]), array([[0.72232067]]), array([[0.74434758]]), array([[0.74435856]]), array([[0.74429808]]), array([[0.74428176]]), array([[0.74376186]]), array([[0.74204129]]), array([[0.74425099]]), array([[0.74429371]]), array([[0.74353272]]), array([[0.74410692]]), array([[0.74365141]]), array([[0.74436638]]), array([[0.74416769]]), array([[0.74435856]]), array([[0.74429447]]), array([[0.74388133]]), array([[0.74435622]]), array([[0.74398788]]), array([[0.74431579]]), array([[0.74182493]]), array([[0.7443503]]), array([[0.74427081]]), array([[0.74400345]]), array([[0.74406903]]), array([[0.73504428]]), array([[0.74435542]]), array([[0.74268192]]), array([[0.74300256]]), array([[0.74430691]]), array([[0.74427836]]), array([[0.7258456]]), array([[0.74427081]]), array([[0.74433843]]), array([[0.74422654]]), array([[0.74433825]]), array([[0.74395404]]), array([[0.74335683]]), array([[0.74407267]]), array([[0.73504428]]), array([[0.74376186]]), array([[0.74409493]]), array([[0.74402033]]), array([[0.74398303]]), array([[0.74224881]]), array([[0.72993838]]), array([[0.74388944]]), array([[0.74437162]]), array([[0.74436926]]), array([[0.74392906]]), array([[0.74426903]]), array([[0.7438932]]), array([[0.74427797]]), array([[0.74428514]]), array([[0.7443548]]), array([[0.74416778]]), array([[0.74400409]]), array([[0.74426265]]), array([[0.74092778]]), array([[0.74224881]]), array([[0.74433996]]), array([[0.74433843]]), array([[0.74437105]]), array([[0.74433037]]), array([[0.74388624]]), array([[0.73504428]]), array([[0.74397334]]), array([[0.74434529]]), array([[0.74407552]]), array([[0.74310484]]), array([[0.74422087]]), array([[0.74434845]]), array([[0.74426334]]), array([[0.74423132]]), array([[0.74208562]]), array([[0.74409493]]), array([[0.74429459]]), array([[0.74435299]]), array([[0.71630596]]), array([[0.74432559]]), array([[0.74431773]]), array([[0.74425736]]), array([[0.74433074]]), array([[0.7438825]]), array([[0.74429793]]), array([[0.74435741]]), array([[0.74430309]]), array([[0.74204129]]), array([[0.74169926]]), array([[0.74436999]]), array([[0.74430746]]), array([[0.74205967]]), array([[0.74410692]]), array([[0.74416456]]), array([[0.74422267]]), array([[0.6757784]]), array([[0.74320178]]), array([[0.74204129]]), array([[0.74422654]]), array([[0.52775774]]), array([[0.74205967]]), array([[0.744345]]), array([[0.74276278]]), array([[0.74224881]]), array([[0.74437071]]), array([[0.74204129]]), array([[0.74428519]]), array([[0.74409493]]), array([[0.74426309]]), array([[0.74404301]]), array([[0.74204129]]), array([[0.74432155]]), array([[0.74224881]]), array([[0.74296171]]), array([[0.74436082]]), array([[0.74208562]]), array([[0.74430407]]), array([[0.7421238]]), array([[0.74204129]]), array([[0.74432166]]), array([[0.73269914]]), array([[0.7438825]]), array([[0.74409493]]), array([[0.7438825]]), array([[0.74437182]]), array([[0.74395148]]), array([[0.74424123]]), array([[0.74420566]]), array([[0.74425489]]), array([[0.74427081]]), array([[0.74430022]]), array([[0.74296171]]), array([[0.7443052]]), array([[0.74385032]]), array([[0.74413796]]), array([[0.7443328]]), array([[0.74434793]]), array([[0.74435385]]), array([[0.74409493]]), array([[0.74435454]]), array([[0.74296171]]), array([[0.7438825]]), array([[0.74409929]]), array([[0.74411945]]), array([[0.74418845]]), array([[0.74400345]]), array([[0.74400409]]), array([[0.74025288]]), array([[0.74384476]]), array([[0.74435554]]), array([[0.7443548]]), array([[0.74434969]]), array([[0.74434801]]), array([[0.74398303]]), array([[0.74435109]]), array([[0.73504428]]), array([[0.73504428]]), array([[0.74434209]]), array([[0.74376186]]), array([[0.73504428]]), array([[0.74400345]]), array([[0.74247755]]), array([[0.74296171]]), array([[0.74204129]]), array([[0.74434117]]), array([[0.74435669]]), array([[0.74208562]]), array([[0.74365141]]), array([[0.74362815]]), array([[0.74434209]]), array([[0.74430022]]), array([[0.74329829]]), array([[0.73504428]]), array([[0.74204129]]), array([[0.74432128]]), array([[0.74328651]]), array([[0.74293336]]), array([[0.74432951]]), array([[0.74407237]]), array([[0.74434966]]), array([[0.74204129]]), array([[0.74400409]]), array([[0.7442575]]), array([[0.74418483]]), array([[0.74183005]]), array([[0.74434966]]), array([[0.74424258]]), array([[0.74422654]]), array([[0.74416864]]), array([[0.74436426]]), array([[0.74421818]])]\n"
     ]
    }
   ],
   "source": [
    "\n",
    "out = network1.predict(X_train)\n"
   ]
  },
  {
   "cell_type": "code",
   "execution_count": 105,
   "metadata": {},
   "outputs": [
    {
     "data": {
      "text/plain": [
       "ID\n",
       "249    0\n",
       "140    1\n",
       "383    1\n",
       "201    1\n",
       "297    0\n",
       "      ..\n",
       "106    1\n",
       "271    1\n",
       "275    0\n",
       "354    0\n",
       "324    1\n",
       "Name: class, Length: 218, dtype: int64"
      ]
     },
     "execution_count": 105,
     "metadata": {},
     "output_type": "execute_result"
    }
   ],
   "source": [
    "y_train"
   ]
  },
  {
   "cell_type": "code",
   "execution_count": 106,
   "metadata": {},
   "outputs": [
    {
     "data": {
      "text/plain": [
       "(217, 16)"
      ]
     },
     "execution_count": 106,
     "metadata": {},
     "output_type": "execute_result"
    }
   ],
   "source": [
    "X_test.shape"
   ]
  },
  {
   "cell_type": "code",
   "execution_count": null,
   "metadata": {},
   "outputs": [],
   "source": []
  }
 ],
 "metadata": {
  "kernelspec": {
   "display_name": "venv",
   "language": "python",
   "name": "python3"
  },
  "language_info": {
   "codemirror_mode": {
    "name": "ipython",
    "version": 3
   },
   "file_extension": ".py",
   "mimetype": "text/x-python",
   "name": "python",
   "nbconvert_exporter": "python",
   "pygments_lexer": "ipython3",
   "version": "3.10.10"
  },
  "orig_nbformat": 4,
  "vscode": {
   "interpreter": {
    "hash": "37c7361227dc3e7733ba0d9221653a542190e1fc763a7f303852558240223e6a"
   }
  }
 },
 "nbformat": 4,
 "nbformat_minor": 2
}
