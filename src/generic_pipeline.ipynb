{
 "cells": [
  {
   "attachments": {},
   "cell_type": "markdown",
   "metadata": {},
   "source": [
    "# Generic Estimator Pipeline"
   ]
  },
  {
   "cell_type": "code",
   "execution_count": null,
   "metadata": {},
   "outputs": [],
   "source": [
    "import pandas as pd\n",
    "from typing import List, Optional, Dict, Any\n",
    "from sklearn.preprocessing import MinMaxScaler, OneHotEncoder, FunctionTransformer, LabelEncoder\n",
    "from sklearn.compose import ColumnTransformer\n",
    "from sklearn.model_selection import train_test_split"
   ]
  },
  {
   "attachments": {},
   "cell_type": "markdown",
   "metadata": {},
   "source": [
    "## Preprocessing"
   ]
  },
  {
   "cell_type": "code",
   "execution_count": null,
   "metadata": {},
   "outputs": [],
   "source": [
    "dataset_path: str = \"../datasets/flags/flag.data\"\n",
    "y_name = \"religion\"\n",
    "column_names: Optional[List[str]] = [\n",
    "    \"name\",\n",
    "    \"landmass\",\n",
    "    \"zone\",\n",
    "    \"area\",\n",
    "    \"population\",\n",
    "    \"language\",\n",
    "    \"religion\",\n",
    "    \"bars\",\n",
    "    \"stripes\",\n",
    "    \"colours\",\n",
    "    \"red\",\n",
    "    \"green\",\n",
    "    \"blue\",\n",
    "    \"gold\",\n",
    "    \"white\",\n",
    "    \"black\",\n",
    "    \"orange\",\n",
    "    \"mainhue\",\n",
    "    \"circles\",\n",
    "    \"crosses\",\n",
    "    \"saltires\",\n",
    "    \"quarters\",\n",
    "    \"sunstars\",\n",
    "    \"crescent\",\n",
    "    \"triangle\",\n",
    "    \"icon\",\n",
    "    \"animate\",\n",
    "    \"text\",\n",
    "    \"topleft\",\n",
    "    \"botright\",\n",
    "]\n",
    "\n",
    "item_separator = \",\"\n",
    "\n",
    "# A dictionary with keys for each column that should be translated (for example, from a label to a string).\n",
    "# Each of these keys yields a translation dictionary.\n",
    "to_translate: Dict[str, Dict[Any, Any]] = {\n",
    "    \"religion\": {0: \"Catholic\", 1: \"Other Christian\", 2: \"Muslim\", 3: \"Buddhist\", 4: \"Hindu\", 5: \"Ethnic\", 6: \"Marxist\", 7: \"Others\"},\n",
    "    \"language\": {1: \"English\", 2: \"Spanish\", 3: \"French\", 4: \"German\", 5: \"Slavic\", 6: \"Other Indo-European\", 7: \"Chinese\", 8: \"Arabic\", 9: \"Japanese/Turkish/Finnish/Magyar\", 10: \"Others\"},\n",
    "}\n",
    "\n",
    "to_drop = [\"name\"]\n",
    "\n",
    "categorical_columns: List[str] = [\"mainhue\", \"landmass\", \"zone\", \"language\", \"topleft\", \"botright\"]\n",
    "columns_to_normalize: List[str] = [\"area\", \"population\", \"bars\", \"stripes\", \"colours\", \"circles\", \"crosses\", \"saltires\", \"quarters\", \"sunstars\"]    \n",
    "\n",
    "transformers = [\n",
    "    (\"onehot\", OneHotEncoder(), categorical_columns),\n",
    "]\n",
    "encoder = ColumnTransformer(\n",
    "    transformers=transformers, \n",
    "    remainder=\"passthrough\"\n",
    ")\n",
    "\n",
    "y_encoder = LabelEncoder()\n",
    "\n",
    "transformers = [\n",
    "        (\"scaler\", MinMaxScaler(), columns_to_normalize),\n",
    "    ]\n",
    "preprocessor = ColumnTransformer(\n",
    "    transformers=transformers,\n",
    "    remainder=\"passthrough\"\n",
    ")"
   ]
  },
  {
   "attachments": {},
   "cell_type": "markdown",
   "metadata": {},
   "source": [
    "## Loading"
   ]
  },
  {
   "cell_type": "code",
   "execution_count": null,
   "metadata": {},
   "outputs": [],
   "source": [
    "raw_df = pd.read_csv(dataset_path, sep=item_separator, names=column_names)"
   ]
  },
  {
   "attachments": {},
   "cell_type": "markdown",
   "metadata": {},
   "source": [
    "## Splitting & Cleaning"
   ]
  },
  {
   "cell_type": "code",
   "execution_count": null,
   "metadata": {},
   "outputs": [],
   "source": [
    "translated_df = raw_df.copy().drop(to_drop, axis=1)\n",
    "for col in to_translate:\n",
    "    translated_df[col] = translated_df[col].replace(to_translate[col])\n",
    "\n",
    "test_size: float = 0.2\n",
    "X = translated_df.drop(y_name, axis=1)\n",
    "y = translated_df[y_name]\n",
    "\n",
    "X_one_hot = pd.DataFrame(encoder.fit(X)\n",
    ".transform(X), columns=encoder\n",
    ".get_feature_names_out())\n",
    "X_one_hot\n",
    "X_one_hot.columns = [col.split(\"__\")[1] if (\"__\" in col) else col for col in X_one_hot.columns]\n",
    "\n",
    "\n",
    "y_encoded = pd.Series(y_encoder.fit_transform(y))\n"
   ]
  },
  {
   "cell_type": "code",
   "execution_count": null,
   "metadata": {},
   "outputs": [],
   "source": [
    "X_train_raw, X_test_raw, y_train, y_test = train_test_split(X_one_hot, y_encoded, test_size=test_size)\n",
    "\n"
   ]
  },
  {
   "cell_type": "code",
   "execution_count": null,
   "metadata": {},
   "outputs": [],
   "source": [
    "\n",
    "preprocessor.fit(X_train_raw)\n",
    "X_train = pd.DataFrame(preprocessor.transform(X_train_raw), columns=preprocessor.get_feature_names_out())\n",
    "X_test = pd.DataFrame(preprocessor.transform(X_test_raw), columns=preprocessor.get_feature_names_out())\n",
    "X_train.head(n=10)"
   ]
  },
  {
   "cell_type": "code",
   "execution_count": null,
   "metadata": {},
   "outputs": [],
   "source": [
    "\n",
    "y_train.head(n=10)"
   ]
  }
 ],
 "metadata": {
  "kernelspec": {
   "display_name": "venv",
   "language": "python",
   "name": "python3"
  },
  "language_info": {
   "codemirror_mode": {
    "name": "ipython",
    "version": 3
   },
   "file_extension": ".py",
   "mimetype": "text/x-python",
   "name": "python",
   "nbconvert_exporter": "python",
   "pygments_lexer": "ipython3",
   "version": "3.11.1"
  },
  "orig_nbformat": 4,
  "vscode": {
   "interpreter": {
    "hash": "37c7361227dc3e7733ba0d9221653a542190e1fc763a7f303852558240223e6a"
   }
  }
 },
 "nbformat": 4,
 "nbformat_minor": 2
}
