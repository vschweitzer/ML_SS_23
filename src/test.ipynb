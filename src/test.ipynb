{
 "cells": [
  {
   "cell_type": "code",
   "execution_count": 3,
   "metadata": {},
   "outputs": [],
   "source": [
    "import sys\n",
    "import os\n",
    "import numpy as np\n",
    "import pandas as pd\n",
    "from FCLayer import FcLayer\n",
    "from ACLayer import AcLayer\n",
    "from Network import Network\n",
    "from activation_functions import sigmoid, relu, sigmoid_prime, tanh, tanh_prime,relu_prime\n",
    "from sklearn.metrics import classification_report\n",
    "from sklearn.model_selection import train_test_split\n",
    "import tensorflow as tf"
   ]
  },
  {
   "cell_type": "code",
   "execution_count": 4,
   "metadata": {},
   "outputs": [],
   "source": [
    "# Set random seed for reproducibility\n",
    "np.random.seed(42)\n",
    "\n",
    "df_vote = pd.read_csv(\"CongressionalVotingID.shuf.lrn.csv\", index_col=\"ID\")\n",
    "df_vote = df_vote.applymap(lambda x: 1 if x == \"y\" else 0 if x == \"n\" else x)\n",
    "df_vote = df_vote.replace(\"democrat\", 1)\n",
    "df_vote = df_vote.replace(\"republican\", 0)\n",
    "df_vote = df_vote.replace(\"unknown\", 0)\n",
    "\n"
   ]
  },
  {
   "cell_type": "code",
   "execution_count": 5,
   "metadata": {},
   "outputs": [],
   "source": [
    "x_train, x_test, y_train, y_test = train_test_split(df_vote.iloc[:,1:], df_vote.iloc[:, 0],test_size=0.4, random_state=11)"
   ]
  },
  {
   "cell_type": "code",
   "execution_count": 6,
   "metadata": {},
   "outputs": [],
   "source": [
    "x_train = np.expand_dims(x_train.to_numpy(), axis=1)\n",
    "y_train = np.expand_dims(y_train.to_numpy(), axis=1)\n",
    "x_test = np.expand_dims(x_test.to_numpy(), axis=1)\n",
    "y_test = np.expand_dims(y_test.to_numpy(), axis=1)"
   ]
  },
  {
   "cell_type": "code",
   "execution_count": 8,
   "metadata": {},
   "outputs": [
    {
     "data": {
      "text/plain": [
       "(130, 1)"
      ]
     },
     "execution_count": 8,
     "metadata": {},
     "output_type": "execute_result"
    }
   ],
   "source": [
    "np.unique(y_test)\n",
    "y_train.shape"
   ]
  },
  {
   "cell_type": "code",
   "execution_count": null,
   "metadata": {},
   "outputs": [],
   "source": [
    "\n",
    "learning_rate = 0.1\n",
    "\n",
    "\n",
    "network1 = Network(learning_rate)\n",
    "input_values = 16\n",
    "output_values = 1\n",
    "intermediate_values = 3\n",
    "layers = 3\n",
    "epochs = 1000\n",
    "\n",
    "for j in range(layers):\n",
    "    i = intermediate_values\n",
    "    o = intermediate_values\n",
    "\n",
    "    if not j:\n",
    "        i = input_values\n",
    "    elif j + 1 == layers:\n",
    "        o = output_values\n",
    "\n",
    "    fc = FcLayer(i, o)\n",
    "    ac = AcLayer(tanh, tanh_prime)\n",
    "    network1.add(fc)\n",
    "    network1.add(ac)\n",
    "\n",
    "network1.train(x_train, y_train, epochs=epochs)\n",
    "\n",
    "out = network1.predict(x_train)"
   ]
  },
  {
   "cell_type": "code",
   "execution_count": null,
   "metadata": {},
   "outputs": [],
   "source": [
    "y_pred=network1.predict(x_test)\n",
    "y_pred=np.where(np.array(y_pred) > 0.5, 1, 0)\n",
    "np.unique(y_pred)"
   ]
  },
  {
   "attachments": {},
   "cell_type": "markdown",
   "metadata": {},
   "source": [
    "***Classification report for Self Neural Network***"
   ]
  },
  {
   "cell_type": "code",
   "execution_count": null,
   "metadata": {},
   "outputs": [],
   "source": [
    "print(classification_report(y_pred=np.squeeze(y_pred),y_true=np.squeeze(y_test)))"
   ]
  },
  {
   "attachments": {},
   "cell_type": "markdown",
   "metadata": {},
   "source": [
    "***Tensor Flow***"
   ]
  },
  {
   "cell_type": "code",
   "execution_count": 281,
   "metadata": {},
   "outputs": [],
   "source": [
    "def train_model(x_train,y_train, num_nodes, dropout_prob,lr, batch_size, epochs):\n",
    "    nn_model=tf.keras.Sequential([tf.keras.layers.Dense(num_nodes, activation='relu', input_shape=(16,)),\n",
    "                              tf.keras.layers.Dropout(dropout_prob),\n",
    "                             tf.keras.layers.Dense(num_nodes, activation='relu'),\n",
    "                             tf.keras.layers.Dropout(dropout_prob),\n",
    "                             tf.keras.layers.Dense(1, activation='sigmoid')])\n",
    "\n",
    "    nn_model.compile(optimizer=tf.keras.optimizers.Adam(lr), loss=\"binary_crossentropy\",metrics=['accuracy'])\n",
    "\n",
    "    #x_train=x_train.astype(float)\n",
    "\n",
    "    history = nn_model.fit(x_train,y_train, epochs=epochs, batch_size=batch_size, validation_split=0.2, verbose=0)\n",
    "    return nn_model, history"
   ]
  },
  {
   "cell_type": "code",
   "execution_count": 282,
   "metadata": {},
   "outputs": [],
   "source": [
    "nn_model, history= train_model(np.squeeze(x_train),np.squeeze(y_train),16 , 0,0.1, 32, 1000)"
   ]
  },
  {
   "cell_type": "code",
   "execution_count": 283,
   "metadata": {},
   "outputs": [
    {
     "name": "stdout",
     "output_type": "stream",
     "text": [
      "3/3 [==============================] - 0s 914us/step\n",
      "              precision    recall  f1-score   support\n",
      "\n",
      "           0       0.97      0.95      0.96        38\n",
      "           1       0.96      0.98      0.97        50\n",
      "\n",
      "    accuracy                           0.97        88\n",
      "   macro avg       0.97      0.96      0.97        88\n",
      "weighted avg       0.97      0.97      0.97        88\n",
      "\n"
     ]
    }
   ],
   "source": [
    "y_pred=nn_model.predict(np.squeeze(x_test))\n",
    "y_pred=(y_pred>0.5).astype(int).reshape(-1)\n",
    "y_pred\n",
    "\n",
    "\n",
    "print(classification_report(y_pred,np.squeeze(y_test)))"
   ]
  }
 ],
 "metadata": {
  "kernelspec": {
   "display_name": "venv",
   "language": "python",
   "name": "python3"
  },
  "language_info": {
   "codemirror_mode": {
    "name": "ipython",
    "version": 3
   },
   "file_extension": ".py",
   "mimetype": "text/x-python",
   "name": "python",
   "nbconvert_exporter": "python",
   "pygments_lexer": "ipython3",
   "version": "3.11.2"
  },
  "orig_nbformat": 4
 },
 "nbformat": 4,
 "nbformat_minor": 2
}
